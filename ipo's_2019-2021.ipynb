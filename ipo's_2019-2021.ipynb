{
 "cells": [
  {
   "cell_type": "markdown",
   "id": "2b810719-2bba-4729-b23e-f17a3ed4764f",
   "metadata": {},
   "source": [
    "### This file is used to pull volume data using API keys on IPOs during the period of 2019-2021."
   ]
  },
  {
   "cell_type": "code",
   "execution_count": 131,
   "id": "bdf653d6-79b4-4494-a0a2-a11a5d5b1619",
   "metadata": {},
   "outputs": [],
   "source": [
    "# Setting imports\n",
    "import os\n",
    "import pandas as pd\n",
    "from dotenv import load_dotenv\n",
    "import alpaca_trade_api as tradeapi\n",
    "import csv\n",
    "from pathlib import Path"
   ]
  },
  {
   "cell_type": "code",
   "execution_count": 2,
   "id": "6aa9b88b-914f-4b04-a32f-2abf8ced3a71",
   "metadata": {},
   "outputs": [
    {
     "data": {
      "text/plain": [
       "True"
      ]
     },
     "execution_count": 2,
     "metadata": {},
     "output_type": "execute_result"
    }
   ],
   "source": [
    "# Loading environment variable\n",
    "load_dotenv()"
   ]
  },
  {
   "cell_type": "code",
   "execution_count": 3,
   "id": "9207198e-d4d3-4a3e-b365-849746c8b759",
   "metadata": {},
   "outputs": [],
   "source": [
    "# Setting the variables for the Alpaca API and secret keys\n",
    "alpaca_api_key = os.getenv(\"ALPACA_API_KEY\")\n",
    "alpaca_secret_key = os.getenv(\"ALPACA_SECRET_KEY\")"
   ]
  },
  {
   "cell_type": "code",
   "execution_count": 4,
   "id": "2bb9805a-bb91-4e64-a552-8dcf6aa5eab0",
   "metadata": {},
   "outputs": [],
   "source": [
    "# Creating the Alpaca tradeapi.REST object\n",
    "alpaca = tradeapi.REST(\n",
    "    alpaca_api_key,\n",
    "    alpaca_secret_key,\n",
    "    api_version=\"v2\")"
   ]
  },
  {
   "cell_type": "markdown",
   "id": "8e33cea0-3d5f-4586-ab57-6ccff4552a37",
   "metadata": {},
   "source": [
    "### This section pulls the data on each of the IPOs in 2019"
   ]
  },
  {
   "cell_type": "code",
   "execution_count": 5,
   "id": "975c7d64-6e8a-49b2-9ae1-66b6cff52247",
   "metadata": {},
   "outputs": [],
   "source": [
    "# Setting timeframe to 1D \n",
    "timeframe = \"1D\""
   ]
  },
  {
   "cell_type": "code",
   "execution_count": 6,
   "id": "39b1c881-44ef-483a-b8ed-a9c99571fc32",
   "metadata": {},
   "outputs": [],
   "source": [
    "# Setting tickers that went public on same date\n",
    "tickers = [\"SXTC\", \"MTC\", \"MDJH\", \"BCOW\", \"RBKB\", \"ANDA\", \"NFE\"]"
   ]
  },
  {
   "cell_type": "code",
   "execution_count": 7,
   "id": "cc521563-a8e9-4651-a4b1-1979834f1de6",
   "metadata": {},
   "outputs": [],
   "source": [
    "# Formatting IPO date as ISO format\n",
    "start_date = pd.Timestamp(\"2019-01-01\", tz=\"America/New_York\").isoformat()\n",
    "end_date = pd.Timestamp(\"2019-01-31\", tz=\"America/New_York\").isoformat()"
   ]
  },
  {
   "cell_type": "code",
   "execution_count": 8,
   "id": "1ddebc10-1bf5-4d69-a011-4b03201eb423",
   "metadata": {},
   "outputs": [
    {
     "data": {
      "text/html": [
       "<div>\n",
       "<style scoped>\n",
       "    .dataframe tbody tr th:only-of-type {\n",
       "        vertical-align: middle;\n",
       "    }\n",
       "\n",
       "    .dataframe tbody tr th {\n",
       "        vertical-align: top;\n",
       "    }\n",
       "\n",
       "    .dataframe thead tr th {\n",
       "        text-align: left;\n",
       "    }\n",
       "\n",
       "    .dataframe thead tr:last-of-type th {\n",
       "        text-align: right;\n",
       "    }\n",
       "</style>\n",
       "<table border=\"1\" class=\"dataframe\">\n",
       "  <thead>\n",
       "    <tr>\n",
       "      <th></th>\n",
       "      <th colspan=\"5\" halign=\"left\">ANDA</th>\n",
       "      <th colspan=\"5\" halign=\"left\">BCOW</th>\n",
       "      <th>...</th>\n",
       "      <th colspan=\"5\" halign=\"left\">RBKB</th>\n",
       "      <th colspan=\"5\" halign=\"left\">SXTC</th>\n",
       "    </tr>\n",
       "    <tr>\n",
       "      <th></th>\n",
       "      <th>open</th>\n",
       "      <th>high</th>\n",
       "      <th>low</th>\n",
       "      <th>close</th>\n",
       "      <th>volume</th>\n",
       "      <th>open</th>\n",
       "      <th>high</th>\n",
       "      <th>low</th>\n",
       "      <th>close</th>\n",
       "      <th>volume</th>\n",
       "      <th>...</th>\n",
       "      <th>open</th>\n",
       "      <th>high</th>\n",
       "      <th>low</th>\n",
       "      <th>close</th>\n",
       "      <th>volume</th>\n",
       "      <th>open</th>\n",
       "      <th>high</th>\n",
       "      <th>low</th>\n",
       "      <th>close</th>\n",
       "      <th>volume</th>\n",
       "    </tr>\n",
       "    <tr>\n",
       "      <th>time</th>\n",
       "      <th></th>\n",
       "      <th></th>\n",
       "      <th></th>\n",
       "      <th></th>\n",
       "      <th></th>\n",
       "      <th></th>\n",
       "      <th></th>\n",
       "      <th></th>\n",
       "      <th></th>\n",
       "      <th></th>\n",
       "      <th></th>\n",
       "      <th></th>\n",
       "      <th></th>\n",
       "      <th></th>\n",
       "      <th></th>\n",
       "      <th></th>\n",
       "      <th></th>\n",
       "      <th></th>\n",
       "      <th></th>\n",
       "      <th></th>\n",
       "      <th></th>\n",
       "    </tr>\n",
       "  </thead>\n",
       "  <tbody>\n",
       "    <tr>\n",
       "      <th>2019-01-04 05:00:00+00:00</th>\n",
       "      <td>NaN</td>\n",
       "      <td>NaN</td>\n",
       "      <td>NaN</td>\n",
       "      <td>NaN</td>\n",
       "      <td>NaN</td>\n",
       "      <td>NaN</td>\n",
       "      <td>NaN</td>\n",
       "      <td>NaN</td>\n",
       "      <td>NaN</td>\n",
       "      <td>NaN</td>\n",
       "      <td>...</td>\n",
       "      <td>NaN</td>\n",
       "      <td>NaN</td>\n",
       "      <td>NaN</td>\n",
       "      <td>NaN</td>\n",
       "      <td>NaN</td>\n",
       "      <td>4.49</td>\n",
       "      <td>5.9900</td>\n",
       "      <td>4.4000</td>\n",
       "      <td>5.7400</td>\n",
       "      <td>47792</td>\n",
       "    </tr>\n",
       "    <tr>\n",
       "      <th>2019-01-07 05:00:00+00:00</th>\n",
       "      <td>NaN</td>\n",
       "      <td>NaN</td>\n",
       "      <td>NaN</td>\n",
       "      <td>NaN</td>\n",
       "      <td>NaN</td>\n",
       "      <td>NaN</td>\n",
       "      <td>NaN</td>\n",
       "      <td>NaN</td>\n",
       "      <td>NaN</td>\n",
       "      <td>NaN</td>\n",
       "      <td>...</td>\n",
       "      <td>NaN</td>\n",
       "      <td>NaN</td>\n",
       "      <td>NaN</td>\n",
       "      <td>NaN</td>\n",
       "      <td>NaN</td>\n",
       "      <td>6.80</td>\n",
       "      <td>6.8000</td>\n",
       "      <td>5.6854</td>\n",
       "      <td>6.4999</td>\n",
       "      <td>24518</td>\n",
       "    </tr>\n",
       "    <tr>\n",
       "      <th>2019-01-08 05:00:00+00:00</th>\n",
       "      <td>NaN</td>\n",
       "      <td>NaN</td>\n",
       "      <td>NaN</td>\n",
       "      <td>NaN</td>\n",
       "      <td>NaN</td>\n",
       "      <td>NaN</td>\n",
       "      <td>NaN</td>\n",
       "      <td>NaN</td>\n",
       "      <td>NaN</td>\n",
       "      <td>NaN</td>\n",
       "      <td>...</td>\n",
       "      <td>NaN</td>\n",
       "      <td>NaN</td>\n",
       "      <td>NaN</td>\n",
       "      <td>NaN</td>\n",
       "      <td>NaN</td>\n",
       "      <td>6.45</td>\n",
       "      <td>7.0000</td>\n",
       "      <td>6.0501</td>\n",
       "      <td>6.5100</td>\n",
       "      <td>21244</td>\n",
       "    </tr>\n",
       "    <tr>\n",
       "      <th>2019-01-09 05:00:00+00:00</th>\n",
       "      <td>NaN</td>\n",
       "      <td>NaN</td>\n",
       "      <td>NaN</td>\n",
       "      <td>NaN</td>\n",
       "      <td>NaN</td>\n",
       "      <td>10.4100</td>\n",
       "      <td>10.5000</td>\n",
       "      <td>9.6200</td>\n",
       "      <td>9.6500</td>\n",
       "      <td>211436.0</td>\n",
       "      <td>...</td>\n",
       "      <td>NaN</td>\n",
       "      <td>NaN</td>\n",
       "      <td>NaN</td>\n",
       "      <td>NaN</td>\n",
       "      <td>NaN</td>\n",
       "      <td>6.75</td>\n",
       "      <td>15.6800</td>\n",
       "      <td>6.7500</td>\n",
       "      <td>11.5073</td>\n",
       "      <td>80319</td>\n",
       "    </tr>\n",
       "    <tr>\n",
       "      <th>2019-01-10 05:00:00+00:00</th>\n",
       "      <td>NaN</td>\n",
       "      <td>NaN</td>\n",
       "      <td>NaN</td>\n",
       "      <td>NaN</td>\n",
       "      <td>NaN</td>\n",
       "      <td>9.5500</td>\n",
       "      <td>10.1000</td>\n",
       "      <td>9.4573</td>\n",
       "      <td>9.9999</td>\n",
       "      <td>273092.0</td>\n",
       "      <td>...</td>\n",
       "      <td>NaN</td>\n",
       "      <td>NaN</td>\n",
       "      <td>NaN</td>\n",
       "      <td>NaN</td>\n",
       "      <td>NaN</td>\n",
       "      <td>17.60</td>\n",
       "      <td>23.3500</td>\n",
       "      <td>6.8100</td>\n",
       "      <td>7.8000</td>\n",
       "      <td>614124</td>\n",
       "    </tr>\n",
       "    <tr>\n",
       "      <th>2019-01-11 05:00:00+00:00</th>\n",
       "      <td>NaN</td>\n",
       "      <td>NaN</td>\n",
       "      <td>NaN</td>\n",
       "      <td>NaN</td>\n",
       "      <td>NaN</td>\n",
       "      <td>10.0000</td>\n",
       "      <td>10.0000</td>\n",
       "      <td>9.8537</td>\n",
       "      <td>9.8556</td>\n",
       "      <td>22900.0</td>\n",
       "      <td>...</td>\n",
       "      <td>NaN</td>\n",
       "      <td>NaN</td>\n",
       "      <td>NaN</td>\n",
       "      <td>NaN</td>\n",
       "      <td>NaN</td>\n",
       "      <td>7.84</td>\n",
       "      <td>7.8400</td>\n",
       "      <td>6.1500</td>\n",
       "      <td>6.4500</td>\n",
       "      <td>255251</td>\n",
       "    </tr>\n",
       "    <tr>\n",
       "      <th>2019-01-14 05:00:00+00:00</th>\n",
       "      <td>NaN</td>\n",
       "      <td>NaN</td>\n",
       "      <td>NaN</td>\n",
       "      <td>NaN</td>\n",
       "      <td>NaN</td>\n",
       "      <td>9.9900</td>\n",
       "      <td>9.9900</td>\n",
       "      <td>9.7600</td>\n",
       "      <td>9.9001</td>\n",
       "      <td>16999.0</td>\n",
       "      <td>...</td>\n",
       "      <td>NaN</td>\n",
       "      <td>NaN</td>\n",
       "      <td>NaN</td>\n",
       "      <td>NaN</td>\n",
       "      <td>NaN</td>\n",
       "      <td>6.21</td>\n",
       "      <td>6.6400</td>\n",
       "      <td>5.4000</td>\n",
       "      <td>5.6800</td>\n",
       "      <td>91730</td>\n",
       "    </tr>\n",
       "    <tr>\n",
       "      <th>2019-01-15 05:00:00+00:00</th>\n",
       "      <td>NaN</td>\n",
       "      <td>NaN</td>\n",
       "      <td>NaN</td>\n",
       "      <td>NaN</td>\n",
       "      <td>NaN</td>\n",
       "      <td>9.8500</td>\n",
       "      <td>10.0300</td>\n",
       "      <td>9.7500</td>\n",
       "      <td>10.0300</td>\n",
       "      <td>35509.0</td>\n",
       "      <td>...</td>\n",
       "      <td>NaN</td>\n",
       "      <td>NaN</td>\n",
       "      <td>NaN</td>\n",
       "      <td>NaN</td>\n",
       "      <td>NaN</td>\n",
       "      <td>5.51</td>\n",
       "      <td>5.7900</td>\n",
       "      <td>4.7000</td>\n",
       "      <td>4.9690</td>\n",
       "      <td>142898</td>\n",
       "    </tr>\n",
       "    <tr>\n",
       "      <th>2019-01-16 05:00:00+00:00</th>\n",
       "      <td>NaN</td>\n",
       "      <td>NaN</td>\n",
       "      <td>NaN</td>\n",
       "      <td>NaN</td>\n",
       "      <td>NaN</td>\n",
       "      <td>10.0300</td>\n",
       "      <td>10.0300</td>\n",
       "      <td>9.9500</td>\n",
       "      <td>10.0000</td>\n",
       "      <td>6437.0</td>\n",
       "      <td>...</td>\n",
       "      <td>NaN</td>\n",
       "      <td>NaN</td>\n",
       "      <td>NaN</td>\n",
       "      <td>NaN</td>\n",
       "      <td>NaN</td>\n",
       "      <td>4.70</td>\n",
       "      <td>5.0001</td>\n",
       "      <td>4.5300</td>\n",
       "      <td>4.6500</td>\n",
       "      <td>118509</td>\n",
       "    </tr>\n",
       "    <tr>\n",
       "      <th>2019-01-17 05:00:00+00:00</th>\n",
       "      <td>NaN</td>\n",
       "      <td>NaN</td>\n",
       "      <td>NaN</td>\n",
       "      <td>NaN</td>\n",
       "      <td>NaN</td>\n",
       "      <td>9.7000</td>\n",
       "      <td>9.9300</td>\n",
       "      <td>9.6892</td>\n",
       "      <td>9.7100</td>\n",
       "      <td>24512.0</td>\n",
       "      <td>...</td>\n",
       "      <td>11.300</td>\n",
       "      <td>11.8500</td>\n",
       "      <td>11.300</td>\n",
       "      <td>11.6300</td>\n",
       "      <td>877638.0</td>\n",
       "      <td>4.73</td>\n",
       "      <td>5.2900</td>\n",
       "      <td>4.5338</td>\n",
       "      <td>4.9999</td>\n",
       "      <td>88009</td>\n",
       "    </tr>\n",
       "    <tr>\n",
       "      <th>2019-01-18 05:00:00+00:00</th>\n",
       "      <td>NaN</td>\n",
       "      <td>NaN</td>\n",
       "      <td>NaN</td>\n",
       "      <td>NaN</td>\n",
       "      <td>NaN</td>\n",
       "      <td>9.7800</td>\n",
       "      <td>9.9000</td>\n",
       "      <td>9.7100</td>\n",
       "      <td>9.7527</td>\n",
       "      <td>17055.0</td>\n",
       "      <td>...</td>\n",
       "      <td>11.740</td>\n",
       "      <td>11.7500</td>\n",
       "      <td>11.500</td>\n",
       "      <td>11.6120</td>\n",
       "      <td>78998.0</td>\n",
       "      <td>4.75</td>\n",
       "      <td>5.0800</td>\n",
       "      <td>4.4800</td>\n",
       "      <td>4.6300</td>\n",
       "      <td>53325</td>\n",
       "    </tr>\n",
       "    <tr>\n",
       "      <th>2019-01-22 05:00:00+00:00</th>\n",
       "      <td>NaN</td>\n",
       "      <td>NaN</td>\n",
       "      <td>NaN</td>\n",
       "      <td>NaN</td>\n",
       "      <td>NaN</td>\n",
       "      <td>9.8500</td>\n",
       "      <td>9.8500</td>\n",
       "      <td>9.6800</td>\n",
       "      <td>9.7400</td>\n",
       "      <td>9888.0</td>\n",
       "      <td>...</td>\n",
       "      <td>11.610</td>\n",
       "      <td>11.8400</td>\n",
       "      <td>11.580</td>\n",
       "      <td>11.8030</td>\n",
       "      <td>197973.0</td>\n",
       "      <td>4.60</td>\n",
       "      <td>4.8600</td>\n",
       "      <td>4.3000</td>\n",
       "      <td>4.3201</td>\n",
       "      <td>51549</td>\n",
       "    </tr>\n",
       "    <tr>\n",
       "      <th>2019-01-23 05:00:00+00:00</th>\n",
       "      <td>NaN</td>\n",
       "      <td>NaN</td>\n",
       "      <td>NaN</td>\n",
       "      <td>NaN</td>\n",
       "      <td>NaN</td>\n",
       "      <td>9.8200</td>\n",
       "      <td>9.8200</td>\n",
       "      <td>9.6900</td>\n",
       "      <td>9.7420</td>\n",
       "      <td>11700.0</td>\n",
       "      <td>...</td>\n",
       "      <td>11.760</td>\n",
       "      <td>11.9000</td>\n",
       "      <td>11.720</td>\n",
       "      <td>11.9000</td>\n",
       "      <td>93869.0</td>\n",
       "      <td>4.19</td>\n",
       "      <td>4.5784</td>\n",
       "      <td>3.7200</td>\n",
       "      <td>3.8203</td>\n",
       "      <td>56387</td>\n",
       "    </tr>\n",
       "    <tr>\n",
       "      <th>2019-01-24 05:00:00+00:00</th>\n",
       "      <td>NaN</td>\n",
       "      <td>NaN</td>\n",
       "      <td>NaN</td>\n",
       "      <td>NaN</td>\n",
       "      <td>NaN</td>\n",
       "      <td>9.6100</td>\n",
       "      <td>9.7500</td>\n",
       "      <td>9.6100</td>\n",
       "      <td>9.6100</td>\n",
       "      <td>21525.0</td>\n",
       "      <td>...</td>\n",
       "      <td>11.880</td>\n",
       "      <td>11.8800</td>\n",
       "      <td>11.520</td>\n",
       "      <td>11.6100</td>\n",
       "      <td>78958.0</td>\n",
       "      <td>3.91</td>\n",
       "      <td>4.0599</td>\n",
       "      <td>3.8000</td>\n",
       "      <td>3.8800</td>\n",
       "      <td>28752</td>\n",
       "    </tr>\n",
       "    <tr>\n",
       "      <th>2019-01-25 05:00:00+00:00</th>\n",
       "      <td>NaN</td>\n",
       "      <td>NaN</td>\n",
       "      <td>NaN</td>\n",
       "      <td>NaN</td>\n",
       "      <td>NaN</td>\n",
       "      <td>9.6700</td>\n",
       "      <td>9.6800</td>\n",
       "      <td>9.5792</td>\n",
       "      <td>9.5873</td>\n",
       "      <td>3300.0</td>\n",
       "      <td>...</td>\n",
       "      <td>11.601</td>\n",
       "      <td>11.6611</td>\n",
       "      <td>11.600</td>\n",
       "      <td>11.6200</td>\n",
       "      <td>42665.0</td>\n",
       "      <td>3.90</td>\n",
       "      <td>4.0000</td>\n",
       "      <td>3.7200</td>\n",
       "      <td>3.7960</td>\n",
       "      <td>19767</td>\n",
       "    </tr>\n",
       "    <tr>\n",
       "      <th>2019-01-28 05:00:00+00:00</th>\n",
       "      <td>NaN</td>\n",
       "      <td>NaN</td>\n",
       "      <td>NaN</td>\n",
       "      <td>NaN</td>\n",
       "      <td>NaN</td>\n",
       "      <td>9.6100</td>\n",
       "      <td>9.6246</td>\n",
       "      <td>9.5600</td>\n",
       "      <td>9.5615</td>\n",
       "      <td>14000.0</td>\n",
       "      <td>...</td>\n",
       "      <td>11.660</td>\n",
       "      <td>11.7000</td>\n",
       "      <td>11.585</td>\n",
       "      <td>11.6500</td>\n",
       "      <td>45308.0</td>\n",
       "      <td>3.91</td>\n",
       "      <td>4.0400</td>\n",
       "      <td>3.6180</td>\n",
       "      <td>3.7300</td>\n",
       "      <td>26923</td>\n",
       "    </tr>\n",
       "    <tr>\n",
       "      <th>2019-01-29 05:00:00+00:00</th>\n",
       "      <td>NaN</td>\n",
       "      <td>NaN</td>\n",
       "      <td>NaN</td>\n",
       "      <td>NaN</td>\n",
       "      <td>NaN</td>\n",
       "      <td>9.5396</td>\n",
       "      <td>9.5396</td>\n",
       "      <td>9.4550</td>\n",
       "      <td>9.4600</td>\n",
       "      <td>20000.0</td>\n",
       "      <td>...</td>\n",
       "      <td>11.700</td>\n",
       "      <td>11.8000</td>\n",
       "      <td>11.610</td>\n",
       "      <td>11.7600</td>\n",
       "      <td>63078.0</td>\n",
       "      <td>3.68</td>\n",
       "      <td>4.0600</td>\n",
       "      <td>3.6800</td>\n",
       "      <td>4.0260</td>\n",
       "      <td>27319</td>\n",
       "    </tr>\n",
       "    <tr>\n",
       "      <th>2019-01-30 05:00:00+00:00</th>\n",
       "      <td>NaN</td>\n",
       "      <td>NaN</td>\n",
       "      <td>NaN</td>\n",
       "      <td>NaN</td>\n",
       "      <td>NaN</td>\n",
       "      <td>9.5000</td>\n",
       "      <td>9.5000</td>\n",
       "      <td>9.4500</td>\n",
       "      <td>9.4500</td>\n",
       "      <td>8260.0</td>\n",
       "      <td>...</td>\n",
       "      <td>11.790</td>\n",
       "      <td>11.7900</td>\n",
       "      <td>11.650</td>\n",
       "      <td>11.6900</td>\n",
       "      <td>83126.0</td>\n",
       "      <td>4.07</td>\n",
       "      <td>8.4700</td>\n",
       "      <td>4.0147</td>\n",
       "      <td>5.8901</td>\n",
       "      <td>4104977</td>\n",
       "    </tr>\n",
       "    <tr>\n",
       "      <th>2019-01-31 05:00:00+00:00</th>\n",
       "      <td>NaN</td>\n",
       "      <td>NaN</td>\n",
       "      <td>NaN</td>\n",
       "      <td>NaN</td>\n",
       "      <td>NaN</td>\n",
       "      <td>9.4500</td>\n",
       "      <td>9.4690</td>\n",
       "      <td>9.4500</td>\n",
       "      <td>9.4520</td>\n",
       "      <td>8457.0</td>\n",
       "      <td>...</td>\n",
       "      <td>11.701</td>\n",
       "      <td>11.8000</td>\n",
       "      <td>11.550</td>\n",
       "      <td>11.5947</td>\n",
       "      <td>69853.0</td>\n",
       "      <td>5.56</td>\n",
       "      <td>7.9500</td>\n",
       "      <td>5.5600</td>\n",
       "      <td>7.1173</td>\n",
       "      <td>3230043</td>\n",
       "    </tr>\n",
       "  </tbody>\n",
       "</table>\n",
       "<p>19 rows × 35 columns</p>\n",
       "</div>"
      ],
      "text/plain": [
       "                          ANDA                            BCOW           \\\n",
       "                          open high  low close volume     open     high   \n",
       "time                                                                      \n",
       "2019-01-04 05:00:00+00:00  NaN  NaN  NaN   NaN    NaN      NaN      NaN   \n",
       "2019-01-07 05:00:00+00:00  NaN  NaN  NaN   NaN    NaN      NaN      NaN   \n",
       "2019-01-08 05:00:00+00:00  NaN  NaN  NaN   NaN    NaN      NaN      NaN   \n",
       "2019-01-09 05:00:00+00:00  NaN  NaN  NaN   NaN    NaN  10.4100  10.5000   \n",
       "2019-01-10 05:00:00+00:00  NaN  NaN  NaN   NaN    NaN   9.5500  10.1000   \n",
       "2019-01-11 05:00:00+00:00  NaN  NaN  NaN   NaN    NaN  10.0000  10.0000   \n",
       "2019-01-14 05:00:00+00:00  NaN  NaN  NaN   NaN    NaN   9.9900   9.9900   \n",
       "2019-01-15 05:00:00+00:00  NaN  NaN  NaN   NaN    NaN   9.8500  10.0300   \n",
       "2019-01-16 05:00:00+00:00  NaN  NaN  NaN   NaN    NaN  10.0300  10.0300   \n",
       "2019-01-17 05:00:00+00:00  NaN  NaN  NaN   NaN    NaN   9.7000   9.9300   \n",
       "2019-01-18 05:00:00+00:00  NaN  NaN  NaN   NaN    NaN   9.7800   9.9000   \n",
       "2019-01-22 05:00:00+00:00  NaN  NaN  NaN   NaN    NaN   9.8500   9.8500   \n",
       "2019-01-23 05:00:00+00:00  NaN  NaN  NaN   NaN    NaN   9.8200   9.8200   \n",
       "2019-01-24 05:00:00+00:00  NaN  NaN  NaN   NaN    NaN   9.6100   9.7500   \n",
       "2019-01-25 05:00:00+00:00  NaN  NaN  NaN   NaN    NaN   9.6700   9.6800   \n",
       "2019-01-28 05:00:00+00:00  NaN  NaN  NaN   NaN    NaN   9.6100   9.6246   \n",
       "2019-01-29 05:00:00+00:00  NaN  NaN  NaN   NaN    NaN   9.5396   9.5396   \n",
       "2019-01-30 05:00:00+00:00  NaN  NaN  NaN   NaN    NaN   9.5000   9.5000   \n",
       "2019-01-31 05:00:00+00:00  NaN  NaN  NaN   NaN    NaN   9.4500   9.4690   \n",
       "\n",
       "                                                      ...    RBKB           \\\n",
       "                              low    close    volume  ...    open     high   \n",
       "time                                                  ...                    \n",
       "2019-01-04 05:00:00+00:00     NaN      NaN       NaN  ...     NaN      NaN   \n",
       "2019-01-07 05:00:00+00:00     NaN      NaN       NaN  ...     NaN      NaN   \n",
       "2019-01-08 05:00:00+00:00     NaN      NaN       NaN  ...     NaN      NaN   \n",
       "2019-01-09 05:00:00+00:00  9.6200   9.6500  211436.0  ...     NaN      NaN   \n",
       "2019-01-10 05:00:00+00:00  9.4573   9.9999  273092.0  ...     NaN      NaN   \n",
       "2019-01-11 05:00:00+00:00  9.8537   9.8556   22900.0  ...     NaN      NaN   \n",
       "2019-01-14 05:00:00+00:00  9.7600   9.9001   16999.0  ...     NaN      NaN   \n",
       "2019-01-15 05:00:00+00:00  9.7500  10.0300   35509.0  ...     NaN      NaN   \n",
       "2019-01-16 05:00:00+00:00  9.9500  10.0000    6437.0  ...     NaN      NaN   \n",
       "2019-01-17 05:00:00+00:00  9.6892   9.7100   24512.0  ...  11.300  11.8500   \n",
       "2019-01-18 05:00:00+00:00  9.7100   9.7527   17055.0  ...  11.740  11.7500   \n",
       "2019-01-22 05:00:00+00:00  9.6800   9.7400    9888.0  ...  11.610  11.8400   \n",
       "2019-01-23 05:00:00+00:00  9.6900   9.7420   11700.0  ...  11.760  11.9000   \n",
       "2019-01-24 05:00:00+00:00  9.6100   9.6100   21525.0  ...  11.880  11.8800   \n",
       "2019-01-25 05:00:00+00:00  9.5792   9.5873    3300.0  ...  11.601  11.6611   \n",
       "2019-01-28 05:00:00+00:00  9.5600   9.5615   14000.0  ...  11.660  11.7000   \n",
       "2019-01-29 05:00:00+00:00  9.4550   9.4600   20000.0  ...  11.700  11.8000   \n",
       "2019-01-30 05:00:00+00:00  9.4500   9.4500    8260.0  ...  11.790  11.7900   \n",
       "2019-01-31 05:00:00+00:00  9.4500   9.4520    8457.0  ...  11.701  11.8000   \n",
       "\n",
       "                                                       SXTC                   \\\n",
       "                              low    close    volume   open     high     low   \n",
       "time                                                                           \n",
       "2019-01-04 05:00:00+00:00     NaN      NaN       NaN   4.49   5.9900  4.4000   \n",
       "2019-01-07 05:00:00+00:00     NaN      NaN       NaN   6.80   6.8000  5.6854   \n",
       "2019-01-08 05:00:00+00:00     NaN      NaN       NaN   6.45   7.0000  6.0501   \n",
       "2019-01-09 05:00:00+00:00     NaN      NaN       NaN   6.75  15.6800  6.7500   \n",
       "2019-01-10 05:00:00+00:00     NaN      NaN       NaN  17.60  23.3500  6.8100   \n",
       "2019-01-11 05:00:00+00:00     NaN      NaN       NaN   7.84   7.8400  6.1500   \n",
       "2019-01-14 05:00:00+00:00     NaN      NaN       NaN   6.21   6.6400  5.4000   \n",
       "2019-01-15 05:00:00+00:00     NaN      NaN       NaN   5.51   5.7900  4.7000   \n",
       "2019-01-16 05:00:00+00:00     NaN      NaN       NaN   4.70   5.0001  4.5300   \n",
       "2019-01-17 05:00:00+00:00  11.300  11.6300  877638.0   4.73   5.2900  4.5338   \n",
       "2019-01-18 05:00:00+00:00  11.500  11.6120   78998.0   4.75   5.0800  4.4800   \n",
       "2019-01-22 05:00:00+00:00  11.580  11.8030  197973.0   4.60   4.8600  4.3000   \n",
       "2019-01-23 05:00:00+00:00  11.720  11.9000   93869.0   4.19   4.5784  3.7200   \n",
       "2019-01-24 05:00:00+00:00  11.520  11.6100   78958.0   3.91   4.0599  3.8000   \n",
       "2019-01-25 05:00:00+00:00  11.600  11.6200   42665.0   3.90   4.0000  3.7200   \n",
       "2019-01-28 05:00:00+00:00  11.585  11.6500   45308.0   3.91   4.0400  3.6180   \n",
       "2019-01-29 05:00:00+00:00  11.610  11.7600   63078.0   3.68   4.0600  3.6800   \n",
       "2019-01-30 05:00:00+00:00  11.650  11.6900   83126.0   4.07   8.4700  4.0147   \n",
       "2019-01-31 05:00:00+00:00  11.550  11.5947   69853.0   5.56   7.9500  5.5600   \n",
       "\n",
       "                                             \n",
       "                             close   volume  \n",
       "time                                         \n",
       "2019-01-04 05:00:00+00:00   5.7400    47792  \n",
       "2019-01-07 05:00:00+00:00   6.4999    24518  \n",
       "2019-01-08 05:00:00+00:00   6.5100    21244  \n",
       "2019-01-09 05:00:00+00:00  11.5073    80319  \n",
       "2019-01-10 05:00:00+00:00   7.8000   614124  \n",
       "2019-01-11 05:00:00+00:00   6.4500   255251  \n",
       "2019-01-14 05:00:00+00:00   5.6800    91730  \n",
       "2019-01-15 05:00:00+00:00   4.9690   142898  \n",
       "2019-01-16 05:00:00+00:00   4.6500   118509  \n",
       "2019-01-17 05:00:00+00:00   4.9999    88009  \n",
       "2019-01-18 05:00:00+00:00   4.6300    53325  \n",
       "2019-01-22 05:00:00+00:00   4.3201    51549  \n",
       "2019-01-23 05:00:00+00:00   3.8203    56387  \n",
       "2019-01-24 05:00:00+00:00   3.8800    28752  \n",
       "2019-01-25 05:00:00+00:00   3.7960    19767  \n",
       "2019-01-28 05:00:00+00:00   3.7300    26923  \n",
       "2019-01-29 05:00:00+00:00   4.0260    27319  \n",
       "2019-01-30 05:00:00+00:00   5.8901  4104977  \n",
       "2019-01-31 05:00:00+00:00   7.1173  3230043  \n",
       "\n",
       "[19 rows x 35 columns]"
      ]
     },
     "execution_count": 8,
     "metadata": {},
     "output_type": "execute_result"
    }
   ],
   "source": [
    "# Using the Alpaca get_barset function to get IPO volume on day 1\n",
    "jan_2019_df = alpaca.get_barset(\n",
    "    tickers,\n",
    "    timeframe,\n",
    "    start=start_date,\n",
    "    end=end_date\n",
    ").df\n",
    "\n",
    "# Review the first 5 rows of the Alpaca DataFrame\n",
    "jan_2019_df"
   ]
  },
  {
   "cell_type": "code",
   "execution_count": 9,
   "id": "611fd34e-d555-405c-9e93-39c6a536825d",
   "metadata": {},
   "outputs": [],
   "source": [
    "# February 2019"
   ]
  },
  {
   "cell_type": "code",
   "execution_count": 10,
   "id": "53d5d3b5-49d4-4dc0-bbd2-e81316b953a6",
   "metadata": {},
   "outputs": [],
   "source": [
    "tickers = [\"GMHI\", \"INMB\", \"IPV\", \"MNCL\", \"ALEC\", \"HARP\", \"GOSS\", \"RMG\", \"ANCN\", \"IMAC\", \"TCRR\", \"AREC\", \"MITO\", \"HOTH\", \"SOLY\", \"ACAM\", \"SLGG\", \"SHLL\", \"DPHC\", \"KLDO\"]"
   ]
  },
  {
   "cell_type": "code",
   "execution_count": 11,
   "id": "819d0ec1-348d-4dbd-9cf7-851df74f7f04",
   "metadata": {},
   "outputs": [],
   "source": [
    "start_date = pd.Timestamp(\"2019-02-01\", tz=\"America/New_York\").isoformat()\n",
    "end_date = pd.Timestamp(\"2019-02-28\", tz=\"America/New_York\").isoformat()"
   ]
  },
  {
   "cell_type": "code",
   "execution_count": 12,
   "id": "20d05db2-d0ae-4925-8ff1-ddc180e29149",
   "metadata": {},
   "outputs": [],
   "source": [
    "feb_2019_df = alpaca.get_barset(\n",
    "    tickers,\n",
    "    timeframe,\n",
    "    start=start_date,\n",
    "    end=end_date\n",
    ").df"
   ]
  },
  {
   "cell_type": "code",
   "execution_count": 13,
   "id": "62ee8cce-06be-4051-9dc8-73ae34fdf39f",
   "metadata": {},
   "outputs": [],
   "source": [
    "# March 2019"
   ]
  },
  {
   "cell_type": "code",
   "execution_count": 14,
   "id": "2467a929-e4f2-41b4-a759-3fdd9deccb38",
   "metadata": {},
   "outputs": [],
   "source": [
    "tickers = [\"HCAC\", \"THCB\", \"SWAV\", \"FUTU\", \"TRNE\", \"TIGR\", \"INSU\", \"LEVI\", \"GNFT\", \"WTRE\", \"JFK\", \"DTIL\", \"LYFT\", \"PUYI\"]"
   ]
  },
  {
   "cell_type": "code",
   "execution_count": 15,
   "id": "6e1fd7eb-2c7a-4cca-8cce-4b286582d8c2",
   "metadata": {},
   "outputs": [],
   "source": [
    "start_date = pd.Timestamp(\"2019-03-01\", tz=\"America/New_York\").isoformat()\n",
    "end_date = pd.Timestamp(\"2019-03-31\", tz=\"America/New_York\").isoformat()"
   ]
  },
  {
   "cell_type": "code",
   "execution_count": 16,
   "id": "29ece8ef-9b6c-4012-aafa-9c1ef767dd87",
   "metadata": {},
   "outputs": [],
   "source": [
    "mar_2019_df = alpaca.get_barset(\n",
    "    tickers,\n",
    "    timeframe,\n",
    "    start=start_date,\n",
    "    end=end_date\n",
    ").df"
   ]
  },
  {
   "cell_type": "code",
   "execution_count": 17,
   "id": "57167a91-d7cd-48ad-8f06-5e251fd07378",
   "metadata": {},
   "outputs": [],
   "source": [
    "# April 2019"
   ]
  },
  {
   "cell_type": "code",
   "execution_count": 18,
   "id": "66cfedb7-9839-4f24-a177-265382854cdc",
   "metadata": {},
   "outputs": [],
   "source": [
    "tickers = [\"PBTS\", \"RUHN\", \"TW\", \"SILK\", \"RPLA\", \"NGM\", \"GHSI\", \"PD\", \"TUFN\", \"JMIA\", \"TPTX\", \"PLMR\", \"BWAY\", \"PINS\", \"ZM\", \"HOOK\", \"GNLN\", \"MNRL\", \"WAFU\"]"
   ]
  },
  {
   "cell_type": "code",
   "execution_count": 19,
   "id": "25233166-e40c-4ded-8843-1f134ace5446",
   "metadata": {},
   "outputs": [],
   "source": [
    "start_date = pd.Timestamp(\"2019-04-01\", tz=\"America/New_York\").isoformat()\n",
    "end_date = pd.Timestamp(\"2019-04-30\", tz=\"America/New_York\").isoformat()"
   ]
  },
  {
   "cell_type": "code",
   "execution_count": 20,
   "id": "63ca727b-f358-46cd-a921-344b4d263362",
   "metadata": {},
   "outputs": [],
   "source": [
    "apr_2019_df = alpaca.get_barset(\n",
    "    tickers,\n",
    "    timeframe,\n",
    "    start=start_date,\n",
    "    end=end_date\n",
    ").df"
   ]
  },
  {
   "cell_type": "code",
   "execution_count": 21,
   "id": "bc54b35f-1d29-466c-9768-7e9001d51bdd",
   "metadata": {},
   "outputs": [],
   "source": [
    "# May 2019"
   ]
  },
  {
   "cell_type": "code",
   "execution_count": 22,
   "id": "bdd41cf2-b3d5-4620-a05f-900c01e9b875",
   "metadata": {},
   "outputs": [],
   "source": [
    "tickers = [\"SY\", \"BYND\", \"TMDX\", \"ATIF\", \"SCPL\", \"YJ\", \"RRBI\", \"TBBA\", \"TRVI\", \"LCA\", \"PSN\", \"HHR\", \"CRTX\", \"AXLA\", \"MEC\", \"NXTC\", \"SPFI\", \"UBER\", \"SONM\", \"JFIN\", \"AGBA\", \"APLT\", \"PSTL\", \"FSLY\", \"AVTR\", \"LKNCY\", \"GXGX\", \"IDYA\", \"BCYC\", \"RTLR\"]"
   ]
  },
  {
   "cell_type": "code",
   "execution_count": 23,
   "id": "87548d42-406b-4c81-b529-b61627671432",
   "metadata": {},
   "outputs": [],
   "source": [
    "start_date = pd.Timestamp(\"2019-05-01\", tz=\"America/New_York\").isoformat()\n",
    "end_date = pd.Timestamp(\"2019-05-31\", tz=\"America/New_York\").isoformat()"
   ]
  },
  {
   "cell_type": "code",
   "execution_count": 24,
   "id": "15a0bea2-3027-40d2-ae8b-f89140e33843",
   "metadata": {},
   "outputs": [],
   "source": [
    "may_2019_df = alpaca.get_barset(\n",
    "    tickers,\n",
    "    timeframe,\n",
    "    start=start_date,\n",
    "    end=end_date\n",
    ").df"
   ]
  },
  {
   "cell_type": "code",
   "execution_count": 25,
   "id": "9ef923e8-b0ab-4d09-9217-c7b00afcb489",
   "metadata": {},
   "outputs": [],
   "source": [
    "# June 2019"
   ]
  },
  {
   "cell_type": "code",
   "execution_count": 26,
   "id": "e7f82bca-1928-46e7-8d45-4d55f46ad242",
   "metadata": {},
   "outputs": [],
   "source": [
    "tickers = [\"GOTU\", \"HYAC\", \"RVLV\", \"CRWD\", \"MWK\", \"FVRR\", \"CHWY\", \"STOK\", \"BCEL\", \"WORK\", \"SMMC\", \"AKRO\", \"PSNL\", \"PRVL\", \"GO\", \"CMBM\", \"LINX\", \"MORF\", \"CHNG\", \"ADPT\", \"BBIO\", \"REAL\", \"KRTX\"]"
   ]
  },
  {
   "cell_type": "code",
   "execution_count": 27,
   "id": "ead14ad3-6864-4e3e-a993-3f358abb842a",
   "metadata": {},
   "outputs": [],
   "source": [
    "start_date = pd.Timestamp(\"2019-06-01\", tz=\"America/New_York\").isoformat()\n",
    "end_date = pd.Timestamp(\"2019-06-30\", tz=\"America/New_York\").isoformat()"
   ]
  },
  {
   "cell_type": "code",
   "execution_count": 28,
   "id": "bf823cd2-eaf2-4cb1-8fbd-c4c839d13325",
   "metadata": {},
   "outputs": [],
   "source": [
    "jun_2019_df = alpaca.get_barset(\n",
    "    tickers,\n",
    "    timeframe,\n",
    "    start=start_date,\n",
    "    end=end_date\n",
    ").df"
   ]
  },
  {
   "cell_type": "code",
   "execution_count": 29,
   "id": "d6e3f348-081d-4f0c-854c-eb8c478c9ece",
   "metadata": {},
   "outputs": [],
   "source": [
    "# July 2019"
   ]
  },
  {
   "cell_type": "code",
   "execution_count": 30,
   "id": "39bf7a5e-5586-4ae8-9e8b-debb6e551794",
   "metadata": {},
   "outputs": [],
   "source": [
    "tickers = [\"RMBI\", \"PIC\", \"THCA\", \"SCPE\", \"DOYU\", \"MIRM\", \"AMK\", \"FULC\", \"ORCC\", \"PHR\", \"OAC\", \"CPAA\", \"IHRT\", \"AFYA\", \"IFS\", \"MDLA\", \"EIC\", \"LVGO\", \"HCAT\", \"PROS\", \"NOVA\", \"CSTL\", \"VIST\", \"SBE\", \"BHAT\", \"WSG\", \"NFIN\", \"BORR\"]"
   ]
  },
  {
   "cell_type": "code",
   "execution_count": 31,
   "id": "c76a94ab-158d-4b41-bbd4-60195f6add35",
   "metadata": {},
   "outputs": [],
   "source": [
    "start_date = pd.Timestamp(\"2019-07-01\", tz=\"America/New_York\").isoformat()\n",
    "end_date = pd.Timestamp(\"2019-07-31\", tz=\"America/New_York\").isoformat()"
   ]
  },
  {
   "cell_type": "code",
   "execution_count": 32,
   "id": "859d3ce7-7c33-4276-b357-e9bb0ee539d9",
   "metadata": {},
   "outputs": [],
   "source": [
    "jul_2019_df = alpaca.get_barset(\n",
    "    tickers,\n",
    "    timeframe,\n",
    "    start=start_date,\n",
    "    end=end_date\n",
    ").df"
   ]
  },
  {
   "cell_type": "code",
   "execution_count": 33,
   "id": "988b6784-f3d1-48cc-bca5-1fbd829f2a12",
   "metadata": {},
   "outputs": [],
   "source": [
    "# August 2019"
   ]
  },
  {
   "cell_type": "code",
   "execution_count": 34,
   "id": "161f5f69-fe45-4a26-b23a-c5c80a160019",
   "metadata": {},
   "outputs": [],
   "source": [
    "tickers = [\"SNDL\", \"DT\", \"KRUS\", \"ORSN\", \"HKIB\", \"INMD\", \"PLIN\", \"JFU\", \"CFB\"]"
   ]
  },
  {
   "cell_type": "code",
   "execution_count": 35,
   "id": "d4dc415b-b4c7-402d-be53-0479a33c1ff0",
   "metadata": {},
   "outputs": [],
   "source": [
    "start_date = pd.Timestamp(\"2019-08-01\", tz=\"America/New_York\").isoformat()\n",
    "end_date = pd.Timestamp(\"2019-08-31\", tz=\"America/New_York\").isoformat()"
   ]
  },
  {
   "cell_type": "code",
   "execution_count": 36,
   "id": "84ac1051-98dc-4e1c-b1a4-2e190cbf6caa",
   "metadata": {},
   "outputs": [],
   "source": [
    "aug_2019_df = alpaca.get_barset(\n",
    "    tickers,\n",
    "    timeframe,\n",
    "    start=start_date,\n",
    "    end=end_date\n",
    ").df"
   ]
  },
  {
   "cell_type": "code",
   "execution_count": 37,
   "id": "a6c34312-f065-49a7-bdfc-81862b43d9d1",
   "metadata": {},
   "outputs": [],
   "source": [
    "# September 2019"
   ]
  },
  {
   "cell_type": "code",
   "execution_count": 38,
   "id": "c90c1f4b-953a-49cb-8069-00d08ae7961b",
   "metadata": {},
   "outputs": [],
   "source": [
    "tickers = [\"SDC\", \"TXG\", \"STSA\", \"SWTX\", \"ALRS\", \"NET\", \"NVST\", \"IGMS\", \"XGN\", \"PING\", \"DDOG\", \"PTON\", \"OPRT\"]"
   ]
  },
  {
   "cell_type": "code",
   "execution_count": 39,
   "id": "e90fd004-f721-419d-9822-74ff5d2ffd5b",
   "metadata": {},
   "outputs": [],
   "source": [
    "start_date = pd.Timestamp(\"2019-09-01\", tz=\"America/New_York\").isoformat()\n",
    "end_date = pd.Timestamp(\"2019-09-30\", tz=\"America/New_York\").isoformat()"
   ]
  },
  {
   "cell_type": "code",
   "execution_count": 40,
   "id": "37541a02-d5c5-46f6-9410-ea79a372e072",
   "metadata": {},
   "outputs": [],
   "source": [
    "sep_2019_df = alpaca.get_barset(\n",
    "    tickers,\n",
    "    timeframe,\n",
    "    start=start_date,\n",
    "    end=end_date\n",
    ").df"
   ]
  },
  {
   "cell_type": "code",
   "execution_count": 41,
   "id": "d4775128-a568-4638-8ca8-18c4cc6488eb",
   "metadata": {},
   "outputs": [],
   "source": [
    "# October 2019"
   ]
  },
  {
   "cell_type": "code",
   "execution_count": 42,
   "id": "51d897db-0663-4324-a9f8-cf6e710b3393",
   "metadata": {},
   "outputs": [],
   "source": [
    "tickers = [\"APRE\", \"MCBS\", \"FREQ\", \"VIE\", \"BNTX\", \"HBT\", \"VIR\", \"IPHA\", \"BRBR\", \"GLEO\", \"LATN\", \"BRP\", \"HAPP\", \"TFPP\", \"DAO\", \"PGNY\", \"PHAT\", \"CABA\", \"AIH\", \"OYST\", \"RAPT\"]"
   ]
  },
  {
   "cell_type": "code",
   "execution_count": 43,
   "id": "d794c56e-e058-4e90-9684-11e6d5478cee",
   "metadata": {},
   "outputs": [],
   "source": [
    "start_date = pd.Timestamp(\"2019-10-01\", tz=\"America/New_York\").isoformat()\n",
    "end_date = pd.Timestamp(\"2019-10-31\", tz=\"America/New_York\").isoformat()"
   ]
  },
  {
   "cell_type": "code",
   "execution_count": 44,
   "id": "15942213-afed-439b-857e-502e1af97f8b",
   "metadata": {},
   "outputs": [],
   "source": [
    "oct_2019_df = alpaca.get_barset(\n",
    "    tickers,\n",
    "    timeframe,\n",
    "    start=start_date,\n",
    "    end=end_date\n",
    ").df"
   ]
  },
  {
   "cell_type": "code",
   "execution_count": 45,
   "id": "ef240ea8-452a-476f-827c-0a01c27761fd",
   "metadata": {},
   "outputs": [],
   "source": [
    "# November 2019"
   ]
  },
  {
   "cell_type": "code",
   "execution_count": 46,
   "id": "db5d1f93-aacd-4a85-9657-26595f1b61a9",
   "metadata": {},
   "outputs": [],
   "source": [
    "tickers = [\"SFTW\", \"DUO\", \"MCMJ\", \"QK\", \"DFNS\", \"CNTG\", \"GRTX\", \"SI\", \"MOHO\", \"KRKR\", \"SRAC\", \"CNSP\", \"TELA\", \"ETNB\", \"YAYO\", \"GRNV\", \"AMHC\", \"SAQN\", \"CAN\", \"SITM\", \"PINE\", \"CHPM\", \"PTAC\"]"
   ]
  },
  {
   "cell_type": "code",
   "execution_count": 47,
   "id": "6fcbbea2-1b65-43b5-b447-9bdb63fbe14c",
   "metadata": {},
   "outputs": [],
   "source": [
    "start_date = pd.Timestamp(\"2019-11-01\", tz=\"America/New_York\").isoformat()\n",
    "end_date = pd.Timestamp(\"2019-11-30\", tz=\"America/New_York\").isoformat()"
   ]
  },
  {
   "cell_type": "code",
   "execution_count": 48,
   "id": "0501eaff-5537-4938-b578-fe6a9d103a48",
   "metadata": {},
   "outputs": [],
   "source": [
    "nov_2019_df = alpaca.get_barset(\n",
    "    tickers,\n",
    "    timeframe,\n",
    "    start=start_date,\n",
    "    end=end_date\n",
    ").df"
   ]
  },
  {
   "cell_type": "code",
   "execution_count": 49,
   "id": "d16d8034-5bb1-48e0-a78e-d0df812c4021",
   "metadata": {},
   "outputs": [],
   "source": [
    "# November 2019"
   ]
  },
  {
   "cell_type": "code",
   "execution_count": 50,
   "id": "895956c6-0bd1-41d4-94dd-1f5aa0a50664",
   "metadata": {},
   "outputs": [],
   "source": [
    "tickers = [\"LMPX\", \"XP\", \"LIVK\", \"BILL\", \"EH\", \"OCFT\", \"SPT\", \"CIIC\", \"HCCO\", \"INDO\", \"MNPR\", \"MKD\"]"
   ]
  },
  {
   "cell_type": "code",
   "execution_count": 51,
   "id": "1d37beec-2745-4cf5-81ef-222dfd9f48a6",
   "metadata": {},
   "outputs": [],
   "source": [
    "start_date = pd.Timestamp(\"2019-12-01\", tz=\"America/New_York\").isoformat()\n",
    "end_date = pd.Timestamp(\"2019-12-31\", tz=\"America/New_York\").isoformat()"
   ]
  },
  {
   "cell_type": "code",
   "execution_count": 52,
   "id": "22194e2f-62f8-4cdb-b245-04c4ef37ce31",
   "metadata": {},
   "outputs": [],
   "source": [
    "dec_2019_df = alpaca.get_barset(\n",
    "    tickers,\n",
    "    timeframe,\n",
    "    start=start_date,\n",
    "    end=end_date\n",
    ").df"
   ]
  },
  {
   "cell_type": "markdown",
   "id": "bdac6066-fb05-4289-aadf-8e803e2ecc0b",
   "metadata": {},
   "source": [
    "### This section pulls the data on each of the IPOs in 2020"
   ]
  },
  {
   "cell_type": "code",
   "execution_count": 53,
   "id": "97261173-8a45-4ae7-9457-bd530f1c2de4",
   "metadata": {},
   "outputs": [],
   "source": [
    "# January 2020"
   ]
  },
  {
   "cell_type": "code",
   "execution_count": 54,
   "id": "95e734c5-fa66-4435-869c-c86ebb6f6b5c",
   "metadata": {},
   "outputs": [],
   "source": [
    "tickers = [\"LIZI\", \"DNK\", \"VEL\", \"IMAB\", \"SCVX\", \"GHIV\", \"ANVS\", \"BDTX\", \"ANPC\", \"ARQT\", \"REYN\", \"ONEM\"]"
   ]
  },
  {
   "cell_type": "code",
   "execution_count": 55,
   "id": "92d33809-4a5f-4c4f-9f8b-2abaea796b76",
   "metadata": {},
   "outputs": [],
   "source": [
    "start_date = pd.Timestamp(\"2020-01-01\", tz=\"America/New_York\").isoformat()\n",
    "end_date = pd.Timestamp(\"2020-01-31\", tz=\"America/New_York\").isoformat()"
   ]
  },
  {
   "cell_type": "code",
   "execution_count": 56,
   "id": "fe551479-7846-4fde-b569-ff3f8183846a",
   "metadata": {},
   "outputs": [],
   "source": [
    "jan_2020_df = alpaca.get_barset(\n",
    "    tickers,\n",
    "    timeframe,\n",
    "    start=start_date,\n",
    "    end=end_date\n",
    ").df"
   ]
  },
  {
   "cell_type": "code",
   "execution_count": 57,
   "id": "d04b2cdd-283c-4076-bbf7-b0b89476afd5",
   "metadata": {},
   "outputs": [],
   "source": [
    "# February 2020"
   ]
  },
  {
   "cell_type": "code",
   "execution_count": 58,
   "id": "e7351e21-ad8d-43da-9f91-142540a41e57",
   "metadata": {},
   "outputs": [],
   "source": [
    "tickers = [\"BEAM\", \"PPD\", \"SDGR\", \"CSPR\", \"PFHD\", \"ONEW\", \"NREF\", \"CCAC\", \"GNRS\", \"HUIZ\", \"RVMD\", \"GRIL\", \"ZGYH\", \"MEDS\", \"CCXX\", \"NBAC\", \"ESSC\", \"DMYT\", \"ZCMD\", \"PASG\",]"
   ]
  },
  {
   "cell_type": "code",
   "execution_count": 59,
   "id": "cc26196a-e705-4090-905d-d3090ec0d0c1",
   "metadata": {},
   "outputs": [],
   "source": [
    "start_date = pd.Timestamp(\"2020-02-01\", tz=\"America/New_York\").isoformat()\n",
    "end_date = pd.Timestamp(\"2020-02-28\", tz=\"America/New_York\").isoformat()"
   ]
  },
  {
   "cell_type": "code",
   "execution_count": 60,
   "id": "975624bc-f02e-493b-b4cc-afcde73435e6",
   "metadata": {},
   "outputs": [],
   "source": [
    "feb_2020_df = alpaca.get_barset(\n",
    "    tickers,\n",
    "    timeframe,\n",
    "    start=start_date,\n",
    "    end=end_date\n",
    ").df"
   ]
  },
  {
   "cell_type": "code",
   "execution_count": 61,
   "id": "f07d7070-1cbb-4ef1-98df-9de376cca764",
   "metadata": {},
   "outputs": [],
   "source": [
    "# March 2020"
   ]
  },
  {
   "cell_type": "code",
   "execution_count": 62,
   "id": "29b53ee1-1379-4232-9843-7932e3e13556",
   "metadata": {},
   "outputs": [],
   "source": [
    "tickers = [\"GFL\", \"FEAC\", \"LSAC\", \"DFPH\", \"IMRA\"]"
   ]
  },
  {
   "cell_type": "code",
   "execution_count": 63,
   "id": "9876138f-d742-449a-8230-2cdb5bb6186d",
   "metadata": {},
   "outputs": [],
   "source": [
    "start_date = pd.Timestamp(\"2020-03-01\", tz=\"America/New_York\").isoformat()\n",
    "end_date = pd.Timestamp(\"2020-03-31\", tz=\"America/New_York\").isoformat()"
   ]
  },
  {
   "cell_type": "code",
   "execution_count": 64,
   "id": "498d5a38-2cdb-4db6-aa12-a90fbebf4027",
   "metadata": {},
   "outputs": [],
   "source": [
    "mar_2020_df = alpaca.get_barset(\n",
    "    tickers,\n",
    "    timeframe,\n",
    "    start=start_date,\n",
    "    end=end_date\n",
    ").df"
   ]
  },
  {
   "cell_type": "code",
   "execution_count": 65,
   "id": "bc0652f9-82f1-4c62-aaae-499ecddbac9e",
   "metadata": {},
   "outputs": [],
   "source": [
    "# April 2020"
   ]
  },
  {
   "cell_type": "code",
   "execution_count": 66,
   "id": "300114f2-dc42-43c3-9d60-b801d433b2d7",
   "metadata": {},
   "outputs": [],
   "source": [
    "tickers = [\"WIMI\", \"ZNTL\", \"KROS\", \"IPOC\", \"CHAQ\", \"ORIC\", \"PCPL\", \"IPOB\", \"FVAC\"]"
   ]
  },
  {
   "cell_type": "code",
   "execution_count": 67,
   "id": "aeeefa4b-a238-49b5-8a66-eb63da8e3454",
   "metadata": {},
   "outputs": [],
   "source": [
    "start_date = pd.Timestamp(\"2020-04-01\", tz=\"America/New_York\").isoformat()\n",
    "end_date = pd.Timestamp(\"2020-04-30\", tz=\"America/New_York\").isoformat()"
   ]
  },
  {
   "cell_type": "code",
   "execution_count": 68,
   "id": "46df56fb-3152-414f-ad5d-0dfaed19b3e1",
   "metadata": {},
   "outputs": [],
   "source": [
    "apr_2020_df = alpaca.get_barset(\n",
    "    tickers,\n",
    "    timeframe,\n",
    "    start=start_date,\n",
    "    end=end_date\n",
    ").df"
   ]
  },
  {
   "cell_type": "code",
   "execution_count": 69,
   "id": "9146c7ea-3723-4491-aa91-b7df36a84e6c",
   "metadata": {},
   "outputs": [],
   "source": [
    "# May 2020"
   ]
  },
  {
   "cell_type": "code",
   "execution_count": 70,
   "id": "f132ea59-f897-4bbb-9fd6-acfefc98ce40",
   "metadata": {},
   "outputs": [],
   "source": [
    "tickers = [\"LYRA\", \"CGRO\", \"ROCH\", \"GAN\", \"LOAK\", \"SOAC\", \"KC\", \"AYLA\", \"CLEU\", \"NOVS\", \"ADCT\", \"BMRG\", \"LGVW\", \"SLQT\", \"NARI\"]"
   ]
  },
  {
   "cell_type": "code",
   "execution_count": 71,
   "id": "4e092e12-449c-40e7-8a2d-086bafabee65",
   "metadata": {},
   "outputs": [],
   "source": [
    "start_date = pd.Timestamp(\"2020-05-01\", tz=\"America/New_York\").isoformat()\n",
    "end_date = pd.Timestamp(\"2020-05-31\", tz=\"America/New_York\").isoformat()"
   ]
  },
  {
   "cell_type": "code",
   "execution_count": 72,
   "id": "ac73f300-4aff-44ab-a996-b4ef2ac39f51",
   "metadata": {},
   "outputs": [],
   "source": [
    "may_2020_df = alpaca.get_barset(\n",
    "    tickers,\n",
    "    timeframe,\n",
    "    start=start_date,\n",
    "    end=end_date\n",
    ").df"
   ]
  },
  {
   "cell_type": "code",
   "execution_count": 73,
   "id": "5c776250-6a3a-49f6-a7e4-8a37a5d5c24b",
   "metadata": {},
   "outputs": [],
   "source": [
    "# June 2020"
   ]
  },
  {
   "cell_type": "code",
   "execution_count": 74,
   "id": "f0b2e83a-2974-4be0-9f36-bf66f0658301",
   "metadata": {},
   "outputs": [],
   "source": [
    "tickers = [\"WMG\", \"PLRX\", \"ZI\", \"LEGN\", \"AMTI\", \"ARYB\", \"CALT\", \"MCAC\", \"DADA\", \"FOUR\", \"VRM\", \"UCL\", \"LTRN\", \"BNR\", \"AZEK\", \"GBIO\", \"RNA\", \"PCVX\", \"RPRX\", \"TREB\", \"FMTX\", \"RPTX\", \"NUZE\", \"PROG\", \"GTH\", \"BRLI\", \"ACI\", \"API\", \"PYPD\", \"EBON\", \"AKUS\", \"KCAC\", \"FUSE\", \"FUSN\", \"ADTX\", \"GSAH\"]"
   ]
  },
  {
   "cell_type": "code",
   "execution_count": 75,
   "id": "8c8b5559-9389-4884-ad15-e18b34c7590b",
   "metadata": {},
   "outputs": [],
   "source": [
    "start_date = pd.Timestamp(\"2020-06-01\", tz=\"America/New_York\").isoformat()\n",
    "end_date = pd.Timestamp(\"2020-06-30\", tz=\"America/New_York\").isoformat()"
   ]
  },
  {
   "cell_type": "code",
   "execution_count": 76,
   "id": "4c9a374e-eee6-43d5-a436-b059645ae213",
   "metadata": {},
   "outputs": [],
   "source": [
    "jun_2020_df = alpaca.get_barset(\n",
    "    tickers,\n",
    "    timeframe,\n",
    "    start=start_date,\n",
    "    end=end_date\n",
    ").df"
   ]
  },
  {
   "cell_type": "code",
   "execution_count": 77,
   "id": "dca06022-908b-4213-9a39-bd980afd61a2",
   "metadata": {},
   "outputs": [],
   "source": [
    "# July 2020"
   ]
  },
  {
   "cell_type": "code",
   "execution_count": 78,
   "id": "20731b70-9ee6-4d16-a4f7-7488f1a14a45",
   "metadata": {},
   "outputs": [],
   "source": [
    "tickers = [\"DNB\", \"PANA\", \"ACCD\", \"LMND\", \"CPSR\", \"BLCT\", \"QH\", \"PSTX\", \"NKTX\", \"IVA\", \"PTK\", \"NCNO\", \"DEH\", \"GOCO\", \"MLAC\", \"HPX\", \"RLAY\", \"TIG\", \"BLI\", \"ALXO\", \"PAND\", \"RNLX\", \"JAMF\", \"PSTH\", \"PSAC\", \"MEG\", \"ERES\", \"EDTK\", \"ANNX\", \"ITOS\", \"NRIX\", \"ACND\", \"GRCY\", \"INZY\", \"ACEV\", \"VERX\", \"LI\", \"ALVR\", \"CCIV\", \"GOED\", \"VSTA\", \"ETAC\", \"VITL\", \"FTHM\", \"NHIC\", \"PRPB\"]"
   ]
  },
  {
   "cell_type": "code",
   "execution_count": 79,
   "id": "28a2c695-000d-417f-bc99-02c37d33bb66",
   "metadata": {},
   "outputs": [],
   "source": [
    "start_date = pd.Timestamp(\"2020-07-01\", tz=\"America/New_York\").isoformat()\n",
    "end_date = pd.Timestamp(\"2020-07-31\", tz=\"America/New_York\").isoformat()"
   ]
  },
  {
   "cell_type": "code",
   "execution_count": 80,
   "id": "e33c4b71-1d8b-495e-83c7-a0945d9af712",
   "metadata": {},
   "outputs": [],
   "source": [
    "jul_2020_df = alpaca.get_barset(\n",
    "    tickers,\n",
    "    timeframe,\n",
    "    start=start_date,\n",
    "    end=end_date\n",
    ").df"
   ]
  },
  {
   "cell_type": "code",
   "execution_count": 81,
   "id": "95ff5bfc-44ec-4900-b722-f2cbfe30aab5",
   "metadata": {},
   "outputs": [],
   "source": [
    "# August 2020"
   ]
  },
  {
   "cell_type": "code",
   "execution_count": 82,
   "id": "ea8e95a3-2cd1-4310-b9cf-7c6755bc26f6",
   "metadata": {},
   "outputs": [],
   "source": [
    "tickers = [\"YAC\", \"HSAQ\", \"RXT\", \"GOAC\", \"BIGC\", \"BOWX\", \"GRSV\", \"OSH\", \"RKT\", \"AFIB\", \"KSMT\", \"FRLN\", \"CMPI\", \"VMAC\", \"IBEX\", \"FSDC\", \"KBNT\", \"BEKE\", \"NTST\", \"RBAC\", \"DCT\", \"LCAP\", \"CVAC\", \"DGNR\", \"BFT\", \"INBX\", \"HRMY\", \"HZAC\", \"CLA\", \"KYMR\", \"NNOX\", \"FST\", \"BTAQ\", \"XPEV\", \"CFII\", \"HCDI\", \"GP\", \"AUVI\"]"
   ]
  },
  {
   "cell_type": "code",
   "execution_count": 83,
   "id": "4f0ac3ac-5b5b-486b-87bb-bcd037c20bde",
   "metadata": {},
   "outputs": [],
   "source": [
    "start_date = pd.Timestamp(\"2020-08-01\", tz=\"America/New_York\").isoformat()\n",
    "end_date = pd.Timestamp(\"2020-08-31\", tz=\"America/New_York\").isoformat()"
   ]
  },
  {
   "cell_type": "code",
   "execution_count": 84,
   "id": "aa428eb4-e5a9-4a4d-bf87-52dce1a96514",
   "metadata": {},
   "outputs": [],
   "source": [
    "aug_2020_df = alpaca.get_barset(\n",
    "    tickers,\n",
    "    timeframe,\n",
    "    start=start_date,\n",
    "    end=end_date\n",
    ").df"
   ]
  },
  {
   "cell_type": "code",
   "execution_count": 85,
   "id": "17165b7c-1907-4f77-bc57-b5ec94a42e05",
   "metadata": {},
   "outputs": [],
   "source": [
    "# September 2020"
   ]
  },
  {
   "cell_type": "code",
   "execution_count": 86,
   "id": "0d22aa13-54cf-4a3a-abe5-5a348ed6f504",
   "metadata": {},
   "outputs": [],
   "source": [
    "tickers = [\"PRFX\", \"CMLF\", \"INAQ\", \"BCTG\", \"TWND\", \"CRHC\", \"ITAC\", \"SVAC\", \"NSH\", \"PIAI\", \"LSPD\", \"LEAP\", \"BSN\", \"TWCT\", \"SNPR\", \"OM\", \"SBG\", \"SAII\", \"SNOW\", \"ENPC\", \"MTCR\", \"STEP\", \"FROG\", \"EQD\", \"AMWL\", \"OACB\", \"RTP\", \"SUMO\", \"DYN\", \"BNL\", \"STWO\", \"PTVE\", \"CMPS\", \"NMMC\", \"VTRU\", \"U\", \"AHAC\", \"ATHA\", \"PMVC\", \"CRSR\", \"LSF\", \"GDRX\", \"BSY\", \"VIH\", \"PDAC\", \"TSHA\", \"GLSI\", \"AMST\", \"SYTA\", \"PMVP\", \"GRAY\", \"VACQ\", \"VIAO\", \"PRLD\", \"ORPH\", \"PLTR\", \"FGNA\", \"YALA\", \"QELL\", \"CD\", \"ASAN\", \"BQ\"]"
   ]
  },
  {
   "cell_type": "code",
   "execution_count": 87,
   "id": "e3bda806-4153-4e3c-bf96-2842cea15e9f",
   "metadata": {},
   "outputs": [],
   "source": [
    "start_date = pd.Timestamp(\"2020-09-01\", tz=\"America/New_York\").isoformat()\n",
    "end_date = pd.Timestamp(\"2020-09-30\", tz=\"America/New_York\").isoformat()"
   ]
  },
  {
   "cell_type": "code",
   "execution_count": 88,
   "id": "cf4aee66-8630-4bb6-9c88-a0ed3c30bb77",
   "metadata": {},
   "outputs": [],
   "source": [
    "sep_2020_df = alpaca.get_barset(\n",
    "    tickers,\n",
    "    timeframe,\n",
    "    start=start_date,\n",
    "    end=end_date\n",
    ").df"
   ]
  },
  {
   "cell_type": "code",
   "execution_count": 89,
   "id": "34d800c8-0774-4855-bba8-b074362e1881",
   "metadata": {},
   "outputs": [],
   "source": [
    "# October 2020"
   ]
  },
  {
   "cell_type": "code",
   "execution_count": 90,
   "id": "61619bfa-b272-4206-896c-17057ddb7c3f",
   "metadata": {},
   "outputs": [],
   "source": [
    "tickers = [\"AGC\", \"RCHG\", \"LUNG\", \"IMPX\", \"AVO\", \"IGAC\", \"LXEH\", \"THRY\", \"CCCC\", \"ASO\", \"IMNM\", \"APSG\", \"AVAN\", \"ONCR\", \"VYGG\", \"ASAQ\", \"SEAH\", \"FMAC\", \"PACE\", \"MAAC\", \"TPGY\", \"SQFT\", \"NGAC\", \"EMPW\", \"PAIC\", \"FUBO\", \"AZYO\", \"IPOE\", \"IPOD\", \"STTK\", \"IH\", \"IPOF\", \"SPRB\", \"KRON\", \"INTZ\", \"CDAK\", \"FVAM\", \"EBC\", \"TMTS\", \"MNSO\", \"MOTN\", \"ARRY\", \"OPT\", \"BTWN\", \"KRBP\", \"TMPM\", \"PRAX\", \"EAR\", \"TARS\", \"ALGS\", \"GWAC\", \"DCRB\", \"HLXA\", \"HZON\", \"MSP\", \"SRSA\", \"YGMZ\", \"HIGA\", \"LFTR\", \"SPNV\", \"XPOA\", \"ABCM\", \"GHLD\", \"YSAC\", \"RICE\", \"MCFE\", \"TEKK\", \"BLSA\", \"CTAC\", \"EUCR\", \"FHTX\", \"LUXA\", \"MACU\", \"ACIC\", \"ROOT\", \"GATO\", \"BDSX\", \"ABST\", \"BOAC\", \"MAX\", \"AJAX\", \"GLTO\", \"DSAC\", \"LESL\", \"ALGM\", \"LU\", \"AVIR\", \"NBA\", \"JUPW\", \"SQZ\", \"BHSE\", \"CONX\"]"
   ]
  },
  {
   "cell_type": "code",
   "execution_count": 91,
   "id": "e8c633ed-4369-4aea-89ac-58f4848c8c99",
   "metadata": {},
   "outputs": [],
   "source": [
    "start_date = pd.Timestamp(\"2020-10-01\", tz=\"America/New_York\").isoformat()\n",
    "end_date = pd.Timestamp(\"2020-10-31\", tz=\"America/New_York\").isoformat()"
   ]
  },
  {
   "cell_type": "code",
   "execution_count": 92,
   "id": "25ea9d6e-05eb-48c2-8a22-52f6b739d2cb",
   "metadata": {},
   "outputs": [],
   "source": [
    "oct_2020_df = alpaca.get_barset(\n",
    "    tickers,\n",
    "    timeframe,\n",
    "    start=start_date,\n",
    "    end=end_date\n",
    ").df"
   ]
  },
  {
   "cell_type": "code",
   "execution_count": 93,
   "id": "8ea082b2-2b49-4cdc-980f-2445f1f862c9",
   "metadata": {},
   "outputs": [],
   "source": [
    "# November 2020"
   ]
  },
  {
   "cell_type": "code",
   "execution_count": 94,
   "id": "b76734be-cd03-4502-99c6-7bb3d8c74916",
   "metadata": {},
   "outputs": [],
   "source": [
    "tickers = [\"DBDR\", \"ADOC\", \"NOAC\", \"CFAC\", \"HAAC\", \"BWAC\", \"DMYI\", \"DGNS\", \"PIPP\", \"OTRA\", \"ZNTE\", \"PHIC\", \"YSG\", \"TLS\", \"NGMS\", \"LNFA\", \"CHFW\", \"IIAC\", \"JYAC\", \"RTPZ\", \"OLMA\", \"LSAQ\", \"SHC\", \"ARBG\", \"CAS\", \"OCA\", \"MRVI\", \"KWAC\", \"BREZ\", \"GNPK\", \"HFEN\", \"VMAR\", \"VCVC\", \"SV\", \"OZON\", \"TINV\", \"SGAM\"]"
   ]
  },
  {
   "cell_type": "code",
   "execution_count": 95,
   "id": "db46b7c1-54b2-4935-b88d-30d44fb61a8d",
   "metadata": {},
   "outputs": [],
   "source": [
    "start_date = pd.Timestamp(\"2020-11-01\", tz=\"America/New_York\").isoformat()\n",
    "end_date = pd.Timestamp(\"2020-11-30\", tz=\"America/New_York\").isoformat()"
   ]
  },
  {
   "cell_type": "code",
   "execution_count": 96,
   "id": "b5c93c8f-a0a1-4289-af65-eaeb0de7c2a7",
   "metadata": {},
   "outputs": [],
   "source": [
    "nov_2020_df = alpaca.get_barset(\n",
    "    tickers,\n",
    "    timeframe,\n",
    "    start=start_date,\n",
    "    end=end_date\n",
    ").df"
   ]
  },
  {
   "cell_type": "code",
   "execution_count": 97,
   "id": "50adb625-289f-438f-b758-da21281b4b77",
   "metadata": {},
   "outputs": [],
   "source": [
    "# December 2020"
   ]
  },
  {
   "cell_type": "code",
   "execution_count": 98,
   "id": "7e6dfaca-6b19-4321-8d26-8b3e432b8388",
   "metadata": {},
   "outputs": [],
   "source": [
    "tickers = [\"CAP\", \"TACA\", \"HTPA\", \"SPFR\", \"LOKB\", \"DCBO\", \"FPAC\", \"KNTE\", \"FTCV\", \"SEER\", \"SBTX\", \"SGTX\", \"PTIC\", \"YQ\", \"RAAC\", \"MUDS\", \"DDMX\", \"CND\", \"PUBM\", \"DASH\", \"AI\", \"NEBC\", \"HMCQ\", \"FLAC\", \"ALTU\", \"RMGB\", \"PCPC\", \"ABNB\", \"CTAQ\", \"HYFM\", \"SNRH\", \"EDTX\", \"GHVI\", \"CBAH\", \"VVOS\", \"MOTV\", \"GLAQ\", \"ROCC\", \"CERT\", \"TVAC\", \"ABCL\", \"NBTX\", \"FDMT\", \"DWIN\", \"KINZ\", \"OCG\", \"WNW\", \"BLUW\", \"ATA\", \"MRAC\", \"SCPS\", \"WISH\", \"BCAB\", \"CCV\", \"UPST\", \"SCOA\", \"COOL\", \"VIRI\", \"MDWT\", \"MTAC\", \"MASS\", \"IIII\", \"SVOK\", \"GFK\", \"DUNE\", \"ACKIT\", \"VII\", \"HCAR\", \"CFIV\", \"VHAQ\", \"GBS\", \"IKT\", \"VTAQ\", \"MRM\"]"
   ]
  },
  {
   "cell_type": "code",
   "execution_count": 99,
   "id": "06a36593-1daa-4e85-a0d0-9fd01a5b57e8",
   "metadata": {},
   "outputs": [],
   "source": [
    "start_date = pd.Timestamp(\"2020-12-01\", tz=\"America/New_York\").isoformat()\n",
    "end_date = pd.Timestamp(\"2020-12-31\", tz=\"America/New_York\").isoformat()"
   ]
  },
  {
   "cell_type": "code",
   "execution_count": 100,
   "id": "ec76655e-179c-4ad4-93d3-c6a22df3f293",
   "metadata": {},
   "outputs": [],
   "source": [
    "dec_2020_df = alpaca.get_barset(\n",
    "    tickers,\n",
    "    timeframe,\n",
    "    start=start_date,\n",
    "    end=end_date\n",
    ").df"
   ]
  },
  {
   "cell_type": "markdown",
   "id": "7eb84da4-8556-4c21-8d39-b57d5cdbb4a8",
   "metadata": {},
   "source": [
    "### This section pulls the data on each of the IPOs in 2021"
   ]
  },
  {
   "cell_type": "code",
   "execution_count": 101,
   "id": "7144fcd1-a868-4dbc-9049-154525751db6",
   "metadata": {},
   "outputs": [],
   "source": [
    "# January 2021"
   ]
  },
  {
   "cell_type": "code",
   "execution_count": 102,
   "id": "a28f8174-9c43-4212-b7ab-046af378c85e",
   "metadata": {},
   "outputs": [],
   "source": [
    "tickers = [\"CRU\", \"BENE\", \"FVT\", \"AKIC\", \"KAIR\", \"PPGH\", \"STPC\", \"OMEG\", \"BLTS\", \"VCKA\", \"INKA\", \"AGCB\", \"VTIQ\", \"IVAN\", \"LHC\", \"GSAQ\", \"EPHY\", \"KLAQ\", \"SVFA\", \"TMKR\", \"PRSR\", \"EPWR\", \"CGEM\", \"GRCL\", \"LWAC\", \"PACX\", \"POW\", \"MCAD\", \"SWBK\", \"PAQC\", \"LJAQ\", \"SWET\", \"KUKE\", \"QLI\", \"ENFA\", \"GPAC\", \"ADEX\", \"BCYP\", \"AFRM\", \"MSGM\", \"HLAH\", \"DLCA\", \"NGAB\", \"FCAX\", \"PNTM\", \"FINM\", \"POSH\", \"WOOF\", \"ENVI\", \"SLCR\", \"MON\", \"AEAC\", \"HCCC\", \"HCIC\", \"GNAC\", \"ADER\", \"PLTK\", \"OCAX\", \"EAC\", \"ROT\", \"CLAS\", \"DRVN\", \"FOXW\", \"GMII\", \"TZPS\", \"GMBT\", \"LEGO\", \"OSTR\", \"MYTE\", \"DFH\", \"SHAC\", \"MNTK\", \"RLX\", \"VOSO\", \"PAX\", \"LMACA\", \"HUDI\", \"JCIC\", \"OEPW\", \"NAAC\", \"EUSG\", \"PV\", \"DHHC\", \"BIOT\", \"HCII\", \"LMAO\", \"BTNB\", \"EZGO\", \"SSAA\", \"NSTB\", \"DNZ\", \"CLIM\", \"TIRX\", \"CAHC\", \"SHLS\", \"CSTA\", \"HCAQ\", \"FSSI\", \"OCDX\", \"TLGA\", \"XM\", \"ITHX\", \"ZIM\", \"AGFY\", \"IGNY\", \"VINP\", \"BLUA\", \"TRIN\", \"BCAC\", \"NLSP\", \"CLRM\", \"EQHA\", \"HMPT\", \"MIT\", \"ZWRK\", \"GCAC\", \"CFV\"]"
   ]
  },
  {
   "cell_type": "code",
   "execution_count": 103,
   "id": "54b5bec0-c6de-49d7-b0f1-cd6a705da8b7",
   "metadata": {},
   "outputs": [],
   "source": [
    "start_date = pd.Timestamp(\"2021-01-01\", tz=\"America/New_York\").isoformat()\n",
    "end_date = pd.Timestamp(\"2021-01-31\", tz=\"America/New_York\").isoformat()"
   ]
  },
  {
   "cell_type": "code",
   "execution_count": 104,
   "id": "099bba09-3924-4108-a2d2-8af9f5ebe642",
   "metadata": {},
   "outputs": [],
   "source": [
    "jan_2021_df = alpaca.get_barset(\n",
    "    tickers,\n",
    "    timeframe,\n",
    "    start=start_date,\n",
    "    end=end_date\n",
    ").df"
   ]
  },
  {
   "cell_type": "code",
   "execution_count": 105,
   "id": "cf5f63c3-607d-485a-82b2-9e94eb9a753d",
   "metadata": {},
   "outputs": [],
   "source": [
    "# February 2021"
   ]
  },
  {
   "cell_type": "code",
   "execution_count": 106,
   "id": "b3cd25b3-5da8-47b4-a976-4f636fd3fa8d",
   "metadata": {},
   "outputs": [],
   "source": [
    "tickers = [\"MDH\", \"JWSM\", \"NRAC\", \"THMA\", \"AAC\", \"TMAC\", \"PRPC\", \"ONTF\", \"KRNL\", \"GHAC\", \"TIXT\", \"ACII\", \"DCRN\", \"ASAX\", \"CENH\", \"LABP\", \"ITQ\", \"NXU\", \"SNSE\", \"ATC\", \"SANA\", \"TERN\", \"ANGN\", \"EVAX\", \"VOR\", \"COVA\", \"SDAC\", \"LHDX\", \"TBCP\", \"GSQD\", \"JOFF\", \"ATMR\", \"HHLA\", \"PHVS\", \"IMCR\", \"CPUH\", \"BOLT\", \"KURI\", \"FWAA\", \"CNEY\", \"RMGC\", \"QFTA\", \"BAOS\", \"SDH\", \"ENNV\", \"PGRW\", \"SPAQ\", \"GIG\", \"CPTK\", \"PMGM\", \"ADRA\", \"PICC\", \"EVOJ\", \"VENA\", \"RAAS\", \"ADAG\", \"SCOB\", \"BPTS\", \"DSP\", \"LGAC\", \"APGB\", \"VLON\", \"XPDI\", \"FORE\", \"BVS\", \"BMBL\", \"APR\", \"LDI\", \"PUCK\", \"IACB\", \"SGFY\", \"NEXI\", \"RCLF\", \"CVII\", \"CHAA\", \"CCVI\", \"LGVN\", \"SCLE\", \"TLIS\", \"TSIB\", \"BITE\", \"SLAC\", \"DBTX\", \"TCAC\", \"MSAC\", \"VRPX\", \"AUUD\", \"NVSA\", \"MACA\", \"ABGI\", \"PFDR\", \"FSII\", \"SPTK\", \"KAII\", \"KIII\", \"FSRX\", \"TWNI\", \"SPGS\", \"BRPM\", \"CFVI\", \"FACA\", \"ASPC\", \"VELO\", \"SLAM\", \"FTAA\", \"ANAC\", \"GSEV\", \"CMII\", \"GLBL\", \"SRNG\", \"BOAS\", \"HIII\", \"COLI\", \"SCR\", \"ISLE\", \"GIIX\", \"EJFA\", \"HUGS\", \"FLME\", \"ARYD\", \"LIII\", \"SBEA\", \"IBER\", \"WARR\", \"AGAC\", \"FACT\", \"ASZ\", \"MACQ\", \"AUS\", \"TWLV\", \"KCAC\", \"FSNB\"]"
   ]
  },
  {
   "cell_type": "code",
   "execution_count": 107,
   "id": "d61f1e33-5107-4a1f-8cee-b2d60ac31b7d",
   "metadata": {},
   "outputs": [],
   "source": [
    "start_date = pd.Timestamp(\"2021-02-01\", tz=\"America/New_York\").isoformat()\n",
    "end_date = pd.Timestamp(\"2021-02-28\", tz=\"America/New_York\").isoformat()"
   ]
  },
  {
   "cell_type": "code",
   "execution_count": 108,
   "id": "bb7ba69d-19bd-4154-8c44-bbb24847bc4c",
   "metadata": {},
   "outputs": [],
   "source": [
    "feb_2021_df = alpaca.get_barset(\n",
    "    tickers,\n",
    "    timeframe,\n",
    "    start=start_date,\n",
    "    end=end_date\n",
    ").df"
   ]
  },
  {
   "cell_type": "code",
   "execution_count": 109,
   "id": "4f2bc6a0-8958-4042-905a-ecddee45fa7f",
   "metadata": {},
   "outputs": [],
   "source": [
    "# March 2021"
   ]
  },
  {
   "cell_type": "code",
   "execution_count": 110,
   "id": "a623afc2-a249-407e-b1ec-3d5c059d164e",
   "metadata": {},
   "outputs": [],
   "source": [
    "tickers = [\"AMPI\", \"GBRG\", \"ARRW\", \"DHBC\", \"NDAC\", \"NSTD\", \"OHPA\", \"DHCA\", \"LOKM\", \"HYAC\", \"FTEV\", \"TSPQ\", \"ANZU\", \"SNII\", \"NSTC\", \"ISOS\", \"OSCR\", \"MACC\", \"ROCR\", \"RXRA\", \"PSAG\", \"KVSA\", \"AURC\", \"ACAH\", \"HERA\", \"TRCA\", \"ATAQ\", \"MBAC\", \"INNV\", \"IPVI\", \"IPVA\", \"TWNT\", \"DMYQ\", \"ATVC\", \"LHAA\", \"WPCB\", \"FRSG\", \"VPCC\", \"VPCB\", \"WPCA\", \"IPVF\", \"SVFB\", \"SVFC\", \"GROY\", \"PDOT\", \"ACQR\", \"RBLX\", \"ESM\", \"FRW\", \"FRXB\", \"VAQC\", \"AGGR\", \"SBII\", \"CLAA\", \"DTOC\", \"CPNG\", \"PTOC\", \"GAPA\", \"LCAA\", \"ATSP\", \"FHS\", \"SPKB\", \"FRON\", \"HAYW\", \"MITC\", \"FTPA\", \"ROSS\", \"GTPA\", \"GTPB\", \"CFFE\", \"RXDX\", \"JOAN\", \"LBPH\", \"SCAQ\", \"EBAC\", \"RTPY\", \"FZT\", \"WALD\", \"FVIV\", \"PLMI\", \"BGSX\", \"OLO\", \"GAMC\", \"SNCY\", \"TETC\", \"KSI\", \"ATHN\", \"KAHC\", \"JWEL\", \"NAPA\", \"TUYA\", \"AMAO\", \"FMIV\", \"GXII\", \"REVH\", \"GANX\", \"AAQC\", \"VEI\", \"RACB\", \"LDHA\", \"AFCG\", \"GGMC\", \"FNCH\", \"LGV\", \"TIL\", \"LVRA\", \"BYTS\", \"AFAQ\", \"CNTB\", \"MOVE\", \"UPC\", \"ACTD\", \"STRE\", \"DGNU\", \"RKTA\", \"NGCA\", \"GGPI\", \"NBST\", \"OPA\", \"TBSA\", \"VGII\", \"LEGA\", \"GLHA\", \"DISA\", \"CRZN\", \"KVSB\", \"KVSC\", \"DCRC\", \"NGC\", \"ACVA\", \"DOCN\", \"SEMR\", \"DSEY\", \"EEIQ\", \"LVTX\", \"MSDA\", \"CRCT\", \"VZIO\", \"LCA\", \"OLK\", \"ZH\", \"HYW\", \"IKNA\", \"ALHC\", \"DSGN\", \"TDUP\", \"EWTX\", \"TWOA\", \"MBTC\", \"ACHL\", \"COUR\"]"
   ]
  },
  {
   "cell_type": "code",
   "execution_count": 111,
   "id": "5a83232f-93e8-4480-8436-7d1eaacba4a1",
   "metadata": {},
   "outputs": [],
   "source": [
    "start_date = pd.Timestamp(\"2021-03-01\", tz=\"America/New_York\").isoformat()\n",
    "end_date = pd.Timestamp(\"2021-03-31\", tz=\"America/New_York\").isoformat()"
   ]
  },
  {
   "cell_type": "code",
   "execution_count": 112,
   "id": "bc03a8ff-b835-4a47-ae9b-3608daa004c3",
   "metadata": {},
   "outputs": [],
   "source": [
    "mar_2021_df = alpaca.get_barset(\n",
    "    tickers,\n",
    "    timeframe,\n",
    "    start=start_date,\n",
    "    end=end_date\n",
    ").df"
   ]
  },
  {
   "cell_type": "code",
   "execution_count": 114,
   "id": "257d5cb8-8e8a-4cae-8e1a-3c7d34561c69",
   "metadata": {},
   "outputs": [],
   "source": [
    "# April 2021"
   ]
  },
  {
   "cell_type": "code",
   "execution_count": 115,
   "id": "d4b7ea2a-7bbf-4ff1-9532-5cf4c5a06448",
   "metadata": {},
   "outputs": [],
   "source": [
    "tickers = [\"EM\", \"KARO\", \"ULCC\", \"COMP\", \"ACBA\", \"UTME\", \"PANA\", \"CMLT\", \"TIOA\", \"MPAC\", \"ADF\", \"VECT\", \"TPGS\", \"RPHM\", \"GLSPT\", \"TCVA\", \"ALKT\", \"YTPG\", \"COIN\", \"TSP\", \"AGL\", \"KRT\", \"EBET\", \"APP\", \"AKYA\", \"BMEA\", \"RXRX\", \"IFBD\", \"TRKA\", \"DV\", \"SKYT\", \"PATH\", \"KNBE\", \"ZY\", \"NPCE\", \"RAIN\", \"IMPL\", \"TMCI\", \"SWIM\", \"AGTI\", \"FTCI\", \"PRVA\", \"BSKY\", \"EDR\", \"TUGC\", \"AVAH\", \"HOWL\", \"IACC\", \"VACC\"]"
   ]
  },
  {
   "cell_type": "code",
   "execution_count": 116,
   "id": "45e26fd2-2c52-472f-816c-156470258ff3",
   "metadata": {},
   "outputs": [],
   "source": [
    "start_date = pd.Timestamp(\"2021-04-01\", tz=\"America/New_York\").isoformat()\n",
    "end_date = pd.Timestamp(\"2021-04-30\", tz=\"America/New_York\").isoformat()"
   ]
  },
  {
   "cell_type": "code",
   "execution_count": 117,
   "id": "42223adf-0bd9-4040-af99-37d136fb2dc1",
   "metadata": {},
   "outputs": [],
   "source": [
    "apr_2021_df = alpaca.get_barset(\n",
    "    tickers,\n",
    "    timeframe,\n",
    "    start=start_date,\n",
    "    end=end_date\n",
    ").df"
   ]
  },
  {
   "cell_type": "code",
   "execution_count": 118,
   "id": "1856a814-eec6-471a-9f4e-e4b6a0f916bf",
   "metadata": {},
   "outputs": [],
   "source": [
    "# May 2021"
   ]
  },
  {
   "cell_type": "code",
   "execution_count": 119,
   "id": "a677643e-d14d-4139-b761-8955bbb35319",
   "metadata": {},
   "outputs": [],
   "source": [
    "tickers = [\"ALF\", \"VLAT\", \"MAQC\", \"FSBC\", \"HNST\", \"VALN\", \"ANEB\", \"BWMN\", \"BRIV\", \"WDH\", \"DKDCA\", \"TALS\", \"OG\", \"FLGC\", \"SMWB\", \"GLBE\", \"IPW\", \"ORIA\", \"DBGI\", \"VERA\", \"OSI\", \"ARTA\", \"MCAE\", \"JZXN\", \"CPAR\", \"POND\", \"SQSP\", \"GIW\", \"SKYA\", \"RAM\", \"PCOR\", \"OTLY\", \"GFOR\", \"FWAC\", \"ZIP\", \"PSPC\", \"DYNS\", \"EGGF\", \"FLYW\", \"PAY\", \"DAWN\", \"OMIC\", \"FIGS\", \"CNTA\", \"OTEC\",]"
   ]
  },
  {
   "cell_type": "code",
   "execution_count": 120,
   "id": "2e132a8e-fd2b-4536-881c-549d4b56fb59",
   "metadata": {},
   "outputs": [],
   "source": [
    "start_date = pd.Timestamp(\"2021-05-01\", tz=\"America/New_York\").isoformat()\n",
    "end_date = pd.Timestamp(\"2021-05-31\", tz=\"America/New_York\").isoformat()"
   ]
  },
  {
   "cell_type": "code",
   "execution_count": 121,
   "id": "8d891d39-6a51-4707-bc50-b8839e69fac5",
   "metadata": {},
   "outputs": [],
   "source": [
    "may_2021_df = alpaca.get_barset(\n",
    "    tickers,\n",
    "    timeframe,\n",
    "    start=start_date,\n",
    "    end=end_date\n",
    ").df"
   ]
  },
  {
   "cell_type": "code",
   "execution_count": 122,
   "id": "eaee6dd3-8f14-4fce-aafc-69ac8b517d47",
   "metadata": {},
   "outputs": [],
   "source": [
    "# June 2021"
   ]
  },
  {
   "cell_type": "code",
   "execution_count": 123,
   "id": "26c14e9e-190f-4700-b441-63ca39ed8e1a",
   "metadata": {},
   "outputs": [],
   "source": [
    "tickers = [\"DLO\", \"ZME\", \"SPK\", \"MQ\", \"ISAA\", \"SMIH\", \"CLBR\", \"GACQ\", \"MNDY\", \"BSGA\", \"ZETA\", \"DIBS\", \"LSFT\", \"TASK\", \"HCNE\", \"BZ\", \"LITT\", \"LAAA\", \"JANX\", \"ALZN\", \"GSQB\", \"DILA\", \"WKME\", \"ZT\", \"MOLN\", \"CNVY\", \"RONI\", \"LYEL\", \"TRON\", \"VERV\", \"ISPC\", \"AOMR\", \"TRMR\", \"RERE\", \"AMAM\", \"ATAI\", \"IPSC\", \"DNAY\", \"CYT\", \"JUGG\", \"FEMY\", \"GPCO\", \"YMM\", \"MITA\", \"CXM\", \"FA\", \"GRVI\", \"FTVI\", \"BHG\", \"BON\", \"DOCS\", \"GLUE\", \"NLIT\", \"CFLT\", \"MIRO\", \"MCW\", \"GHRS\", \"GRPH\", \"GMVD\", \"MF\", \"TKNO\", \"ACXP\", \"ELEV\", \"GOBI\", \"EOCW\", \"DDL\", \"DNAD\", \"MCAF\", \"THCP\", \"DIDI\", \"CPOP\", \"AVTE\", \"YOU\", \"DNAC\", \"IAS\", \"XMTR\", \"CVRX\", \"LZ\", \"INTA\", \"SHQA\", \"DNAA\", \"S\", \"DNAB\"]"
   ]
  },
  {
   "cell_type": "code",
   "execution_count": 124,
   "id": "8e37858a-17f4-42aa-8d10-75d7afbffde2",
   "metadata": {},
   "outputs": [],
   "source": [
    "start_date = pd.Timestamp(\"2021-06-01\", tz=\"America/New_York\").isoformat()\n",
    "end_date = pd.Timestamp(\"2021-06-30\", tz=\"America/New_York\").isoformat()"
   ]
  },
  {
   "cell_type": "code",
   "execution_count": 125,
   "id": "fec1ed8e-02ef-4ce9-95e9-af152beb4d0c",
   "metadata": {},
   "outputs": [],
   "source": [
    "jun_2021_df = alpaca.get_barset(\n",
    "    tickers,\n",
    "    timeframe,\n",
    "    start=start_date,\n",
    "    end=end_date\n",
    ").df"
   ]
  },
  {
   "cell_type": "code",
   "execution_count": 126,
   "id": "3ede5554-a237-4b53-a9fa-f687f1209138",
   "metadata": {},
   "outputs": [],
   "source": [
    "# July 2021"
   ]
  },
  {
   "cell_type": "code",
   "execution_count": 127,
   "id": "2e551083-9a2f-4a19-ac43-740b23f62c5e",
   "metadata": {},
   "outputs": [],
   "source": [
    "tickers = [\"VRAR\", \"DNUT\", \"EVCM\", \"CURV\", \"GGGV\", \"HEPS\", \"CORS\", \"DRAY\", \"FICV\", \"WAVE\", \"ABOS\", \"NYXH\", \"RICO\", \"MITQ\", \"ALCC\", \"AGRI\", \"SNTG\", \"RNAZ\", \"ACRO\", \"GLTA\", \"GWII\", \"UNCY\", \"ARYE\", \"IINN\", \"JATT\", \"PECO\", \"SERA\", \"CLAQ\", \"FXLV\", \"SGHT\", \"MCG\", \"UPTD\", \"RPID\", \"RGC\", \"TWCB\", \"TCRX\", \"IMGO\", \"BRDG\"]"
   ]
  },
  {
   "cell_type": "code",
   "execution_count": 128,
   "id": "3af3b389-5d5e-4fb9-b0c6-0a0be3208720",
   "metadata": {},
   "outputs": [],
   "source": [
    "start_date = pd.Timestamp(\"2021-07-01\", tz=\"America/New_York\").isoformat()\n",
    "end_date = pd.Timestamp(\"2021-07-31\", tz=\"America/New_York\").isoformat()"
   ]
  },
  {
   "cell_type": "code",
   "execution_count": 129,
   "id": "8ae4d6f0-fac8-424c-8f8e-41fa42f0dd7c",
   "metadata": {},
   "outputs": [],
   "source": [
    "jul_2021_df = alpaca.get_barset(\n",
    "    tickers,\n",
    "    timeframe,\n",
    "    start=start_date,\n",
    "    end=end_date\n",
    ").df"
   ]
  },
  {
   "cell_type": "markdown",
   "id": "f822cbde-9021-4142-9385-980c829bfddb",
   "metadata": {},
   "source": [
    "### This section concatenates the dataframes into one and writes the aggregated dataframe into a new csv file."
   ]
  },
  {
   "cell_type": "code",
   "execution_count": 130,
   "id": "6a9a207b-3644-489f-bf5c-a8f0367940de",
   "metadata": {},
   "outputs": [
    {
     "data": {
      "text/html": [
       "<div>\n",
       "<style scoped>\n",
       "    .dataframe tbody tr th:only-of-type {\n",
       "        vertical-align: middle;\n",
       "    }\n",
       "\n",
       "    .dataframe tbody tr th {\n",
       "        vertical-align: top;\n",
       "    }\n",
       "\n",
       "    .dataframe thead tr th {\n",
       "        text-align: left;\n",
       "    }\n",
       "\n",
       "    .dataframe thead tr:last-of-type th {\n",
       "        text-align: right;\n",
       "    }\n",
       "</style>\n",
       "<table border=\"1\" class=\"dataframe\">\n",
       "  <thead>\n",
       "    <tr>\n",
       "      <th></th>\n",
       "      <th colspan=\"5\" halign=\"left\">ANDA</th>\n",
       "      <th colspan=\"5\" halign=\"left\">BCOW</th>\n",
       "      <th>...</th>\n",
       "      <th colspan=\"5\" halign=\"left\">VRAR</th>\n",
       "      <th colspan=\"5\" halign=\"left\">WAVE</th>\n",
       "    </tr>\n",
       "    <tr>\n",
       "      <th></th>\n",
       "      <th>open</th>\n",
       "      <th>high</th>\n",
       "      <th>low</th>\n",
       "      <th>close</th>\n",
       "      <th>volume</th>\n",
       "      <th>open</th>\n",
       "      <th>high</th>\n",
       "      <th>low</th>\n",
       "      <th>close</th>\n",
       "      <th>volume</th>\n",
       "      <th>...</th>\n",
       "      <th>open</th>\n",
       "      <th>high</th>\n",
       "      <th>low</th>\n",
       "      <th>close</th>\n",
       "      <th>volume</th>\n",
       "      <th>open</th>\n",
       "      <th>high</th>\n",
       "      <th>low</th>\n",
       "      <th>close</th>\n",
       "      <th>volume</th>\n",
       "    </tr>\n",
       "    <tr>\n",
       "      <th>time</th>\n",
       "      <th></th>\n",
       "      <th></th>\n",
       "      <th></th>\n",
       "      <th></th>\n",
       "      <th></th>\n",
       "      <th></th>\n",
       "      <th></th>\n",
       "      <th></th>\n",
       "      <th></th>\n",
       "      <th></th>\n",
       "      <th></th>\n",
       "      <th></th>\n",
       "      <th></th>\n",
       "      <th></th>\n",
       "      <th></th>\n",
       "      <th></th>\n",
       "      <th></th>\n",
       "      <th></th>\n",
       "      <th></th>\n",
       "      <th></th>\n",
       "      <th></th>\n",
       "    </tr>\n",
       "  </thead>\n",
       "  <tbody>\n",
       "    <tr>\n",
       "      <th>2019-01-04 05:00:00+00:00</th>\n",
       "      <td>NaN</td>\n",
       "      <td>NaN</td>\n",
       "      <td>NaN</td>\n",
       "      <td>NaN</td>\n",
       "      <td>NaN</td>\n",
       "      <td>NaN</td>\n",
       "      <td>NaN</td>\n",
       "      <td>NaN</td>\n",
       "      <td>NaN</td>\n",
       "      <td>NaN</td>\n",
       "      <td>...</td>\n",
       "      <td>NaN</td>\n",
       "      <td>NaN</td>\n",
       "      <td>NaN</td>\n",
       "      <td>NaN</td>\n",
       "      <td>NaN</td>\n",
       "      <td>NaN</td>\n",
       "      <td>NaN</td>\n",
       "      <td>NaN</td>\n",
       "      <td>NaN</td>\n",
       "      <td>NaN</td>\n",
       "    </tr>\n",
       "    <tr>\n",
       "      <th>2019-01-07 05:00:00+00:00</th>\n",
       "      <td>NaN</td>\n",
       "      <td>NaN</td>\n",
       "      <td>NaN</td>\n",
       "      <td>NaN</td>\n",
       "      <td>NaN</td>\n",
       "      <td>NaN</td>\n",
       "      <td>NaN</td>\n",
       "      <td>NaN</td>\n",
       "      <td>NaN</td>\n",
       "      <td>NaN</td>\n",
       "      <td>...</td>\n",
       "      <td>NaN</td>\n",
       "      <td>NaN</td>\n",
       "      <td>NaN</td>\n",
       "      <td>NaN</td>\n",
       "      <td>NaN</td>\n",
       "      <td>NaN</td>\n",
       "      <td>NaN</td>\n",
       "      <td>NaN</td>\n",
       "      <td>NaN</td>\n",
       "      <td>NaN</td>\n",
       "    </tr>\n",
       "    <tr>\n",
       "      <th>2019-01-08 05:00:00+00:00</th>\n",
       "      <td>NaN</td>\n",
       "      <td>NaN</td>\n",
       "      <td>NaN</td>\n",
       "      <td>NaN</td>\n",
       "      <td>NaN</td>\n",
       "      <td>NaN</td>\n",
       "      <td>NaN</td>\n",
       "      <td>NaN</td>\n",
       "      <td>NaN</td>\n",
       "      <td>NaN</td>\n",
       "      <td>...</td>\n",
       "      <td>NaN</td>\n",
       "      <td>NaN</td>\n",
       "      <td>NaN</td>\n",
       "      <td>NaN</td>\n",
       "      <td>NaN</td>\n",
       "      <td>NaN</td>\n",
       "      <td>NaN</td>\n",
       "      <td>NaN</td>\n",
       "      <td>NaN</td>\n",
       "      <td>NaN</td>\n",
       "    </tr>\n",
       "    <tr>\n",
       "      <th>2019-01-09 05:00:00+00:00</th>\n",
       "      <td>NaN</td>\n",
       "      <td>NaN</td>\n",
       "      <td>NaN</td>\n",
       "      <td>NaN</td>\n",
       "      <td>NaN</td>\n",
       "      <td>10.41</td>\n",
       "      <td>10.5</td>\n",
       "      <td>9.6200</td>\n",
       "      <td>9.6500</td>\n",
       "      <td>211436.0</td>\n",
       "      <td>...</td>\n",
       "      <td>NaN</td>\n",
       "      <td>NaN</td>\n",
       "      <td>NaN</td>\n",
       "      <td>NaN</td>\n",
       "      <td>NaN</td>\n",
       "      <td>NaN</td>\n",
       "      <td>NaN</td>\n",
       "      <td>NaN</td>\n",
       "      <td>NaN</td>\n",
       "      <td>NaN</td>\n",
       "    </tr>\n",
       "    <tr>\n",
       "      <th>2019-01-10 05:00:00+00:00</th>\n",
       "      <td>NaN</td>\n",
       "      <td>NaN</td>\n",
       "      <td>NaN</td>\n",
       "      <td>NaN</td>\n",
       "      <td>NaN</td>\n",
       "      <td>9.55</td>\n",
       "      <td>10.1</td>\n",
       "      <td>9.4573</td>\n",
       "      <td>9.9999</td>\n",
       "      <td>273092.0</td>\n",
       "      <td>...</td>\n",
       "      <td>NaN</td>\n",
       "      <td>NaN</td>\n",
       "      <td>NaN</td>\n",
       "      <td>NaN</td>\n",
       "      <td>NaN</td>\n",
       "      <td>NaN</td>\n",
       "      <td>NaN</td>\n",
       "      <td>NaN</td>\n",
       "      <td>NaN</td>\n",
       "      <td>NaN</td>\n",
       "    </tr>\n",
       "  </tbody>\n",
       "</table>\n",
       "<p>5 rows × 6400 columns</p>\n",
       "</div>"
      ],
      "text/plain": [
       "                          ANDA                          BCOW                \\\n",
       "                          open high  low close volume   open  high     low   \n",
       "time                                                                         \n",
       "2019-01-04 05:00:00+00:00  NaN  NaN  NaN   NaN    NaN    NaN   NaN     NaN   \n",
       "2019-01-07 05:00:00+00:00  NaN  NaN  NaN   NaN    NaN    NaN   NaN     NaN   \n",
       "2019-01-08 05:00:00+00:00  NaN  NaN  NaN   NaN    NaN    NaN   NaN     NaN   \n",
       "2019-01-09 05:00:00+00:00  NaN  NaN  NaN   NaN    NaN  10.41  10.5  9.6200   \n",
       "2019-01-10 05:00:00+00:00  NaN  NaN  NaN   NaN    NaN   9.55  10.1  9.4573   \n",
       "\n",
       "                                             ... VRAR                        \\\n",
       "                            close    volume  ... open high low close volume   \n",
       "time                                         ...                              \n",
       "2019-01-04 05:00:00+00:00     NaN       NaN  ...  NaN  NaN NaN   NaN    NaN   \n",
       "2019-01-07 05:00:00+00:00     NaN       NaN  ...  NaN  NaN NaN   NaN    NaN   \n",
       "2019-01-08 05:00:00+00:00     NaN       NaN  ...  NaN  NaN NaN   NaN    NaN   \n",
       "2019-01-09 05:00:00+00:00  9.6500  211436.0  ...  NaN  NaN NaN   NaN    NaN   \n",
       "2019-01-10 05:00:00+00:00  9.9999  273092.0  ...  NaN  NaN NaN   NaN    NaN   \n",
       "\n",
       "                          WAVE                        \n",
       "                          open high low close volume  \n",
       "time                                                  \n",
       "2019-01-04 05:00:00+00:00  NaN  NaN NaN   NaN    NaN  \n",
       "2019-01-07 05:00:00+00:00  NaN  NaN NaN   NaN    NaN  \n",
       "2019-01-08 05:00:00+00:00  NaN  NaN NaN   NaN    NaN  \n",
       "2019-01-09 05:00:00+00:00  NaN  NaN NaN   NaN    NaN  \n",
       "2019-01-10 05:00:00+00:00  NaN  NaN NaN   NaN    NaN  \n",
       "\n",
       "[5 rows x 6400 columns]"
      ]
     },
     "metadata": {},
     "output_type": "display_data"
    },
    {
     "data": {
      "text/html": [
       "<div>\n",
       "<style scoped>\n",
       "    .dataframe tbody tr th:only-of-type {\n",
       "        vertical-align: middle;\n",
       "    }\n",
       "\n",
       "    .dataframe tbody tr th {\n",
       "        vertical-align: top;\n",
       "    }\n",
       "\n",
       "    .dataframe thead tr th {\n",
       "        text-align: left;\n",
       "    }\n",
       "\n",
       "    .dataframe thead tr:last-of-type th {\n",
       "        text-align: right;\n",
       "    }\n",
       "</style>\n",
       "<table border=\"1\" class=\"dataframe\">\n",
       "  <thead>\n",
       "    <tr>\n",
       "      <th></th>\n",
       "      <th colspan=\"5\" halign=\"left\">ANDA</th>\n",
       "      <th colspan=\"5\" halign=\"left\">BCOW</th>\n",
       "      <th>...</th>\n",
       "      <th colspan=\"5\" halign=\"left\">VRAR</th>\n",
       "      <th colspan=\"5\" halign=\"left\">WAVE</th>\n",
       "    </tr>\n",
       "    <tr>\n",
       "      <th></th>\n",
       "      <th>open</th>\n",
       "      <th>high</th>\n",
       "      <th>low</th>\n",
       "      <th>close</th>\n",
       "      <th>volume</th>\n",
       "      <th>open</th>\n",
       "      <th>high</th>\n",
       "      <th>low</th>\n",
       "      <th>close</th>\n",
       "      <th>volume</th>\n",
       "      <th>...</th>\n",
       "      <th>open</th>\n",
       "      <th>high</th>\n",
       "      <th>low</th>\n",
       "      <th>close</th>\n",
       "      <th>volume</th>\n",
       "      <th>open</th>\n",
       "      <th>high</th>\n",
       "      <th>low</th>\n",
       "      <th>close</th>\n",
       "      <th>volume</th>\n",
       "    </tr>\n",
       "    <tr>\n",
       "      <th>time</th>\n",
       "      <th></th>\n",
       "      <th></th>\n",
       "      <th></th>\n",
       "      <th></th>\n",
       "      <th></th>\n",
       "      <th></th>\n",
       "      <th></th>\n",
       "      <th></th>\n",
       "      <th></th>\n",
       "      <th></th>\n",
       "      <th></th>\n",
       "      <th></th>\n",
       "      <th></th>\n",
       "      <th></th>\n",
       "      <th></th>\n",
       "      <th></th>\n",
       "      <th></th>\n",
       "      <th></th>\n",
       "      <th></th>\n",
       "      <th></th>\n",
       "      <th></th>\n",
       "    </tr>\n",
       "  </thead>\n",
       "  <tbody>\n",
       "    <tr>\n",
       "      <th>2021-07-12 04:00:00+00:00</th>\n",
       "      <td>NaN</td>\n",
       "      <td>NaN</td>\n",
       "      <td>NaN</td>\n",
       "      <td>NaN</td>\n",
       "      <td>NaN</td>\n",
       "      <td>NaN</td>\n",
       "      <td>NaN</td>\n",
       "      <td>NaN</td>\n",
       "      <td>NaN</td>\n",
       "      <td>NaN</td>\n",
       "      <td>...</td>\n",
       "      <td>9.80</td>\n",
       "      <td>10.0000</td>\n",
       "      <td>9.05</td>\n",
       "      <td>9.23</td>\n",
       "      <td>529243.0</td>\n",
       "      <td>13.38</td>\n",
       "      <td>13.8200</td>\n",
       "      <td>11.8400</td>\n",
       "      <td>11.930</td>\n",
       "      <td>359714.0</td>\n",
       "    </tr>\n",
       "    <tr>\n",
       "      <th>2021-07-13 04:00:00+00:00</th>\n",
       "      <td>NaN</td>\n",
       "      <td>NaN</td>\n",
       "      <td>NaN</td>\n",
       "      <td>NaN</td>\n",
       "      <td>NaN</td>\n",
       "      <td>NaN</td>\n",
       "      <td>NaN</td>\n",
       "      <td>NaN</td>\n",
       "      <td>NaN</td>\n",
       "      <td>NaN</td>\n",
       "      <td>...</td>\n",
       "      <td>9.51</td>\n",
       "      <td>11.2300</td>\n",
       "      <td>9.30</td>\n",
       "      <td>10.60</td>\n",
       "      <td>2645973.0</td>\n",
       "      <td>11.61</td>\n",
       "      <td>13.9800</td>\n",
       "      <td>11.0000</td>\n",
       "      <td>12.270</td>\n",
       "      <td>290813.0</td>\n",
       "    </tr>\n",
       "    <tr>\n",
       "      <th>2021-07-14 04:00:00+00:00</th>\n",
       "      <td>NaN</td>\n",
       "      <td>NaN</td>\n",
       "      <td>NaN</td>\n",
       "      <td>NaN</td>\n",
       "      <td>NaN</td>\n",
       "      <td>NaN</td>\n",
       "      <td>NaN</td>\n",
       "      <td>NaN</td>\n",
       "      <td>NaN</td>\n",
       "      <td>NaN</td>\n",
       "      <td>...</td>\n",
       "      <td>10.26</td>\n",
       "      <td>10.5222</td>\n",
       "      <td>9.56</td>\n",
       "      <td>9.87</td>\n",
       "      <td>451085.0</td>\n",
       "      <td>12.80</td>\n",
       "      <td>12.9800</td>\n",
       "      <td>11.6401</td>\n",
       "      <td>11.805</td>\n",
       "      <td>147332.0</td>\n",
       "    </tr>\n",
       "    <tr>\n",
       "      <th>2021-07-15 04:00:00+00:00</th>\n",
       "      <td>NaN</td>\n",
       "      <td>NaN</td>\n",
       "      <td>NaN</td>\n",
       "      <td>NaN</td>\n",
       "      <td>NaN</td>\n",
       "      <td>NaN</td>\n",
       "      <td>NaN</td>\n",
       "      <td>NaN</td>\n",
       "      <td>NaN</td>\n",
       "      <td>NaN</td>\n",
       "      <td>...</td>\n",
       "      <td>9.92</td>\n",
       "      <td>10.2600</td>\n",
       "      <td>9.18</td>\n",
       "      <td>9.28</td>\n",
       "      <td>553333.0</td>\n",
       "      <td>11.56</td>\n",
       "      <td>11.5800</td>\n",
       "      <td>10.5600</td>\n",
       "      <td>10.640</td>\n",
       "      <td>147422.0</td>\n",
       "    </tr>\n",
       "    <tr>\n",
       "      <th>2021-07-16 04:00:00+00:00</th>\n",
       "      <td>NaN</td>\n",
       "      <td>NaN</td>\n",
       "      <td>NaN</td>\n",
       "      <td>NaN</td>\n",
       "      <td>NaN</td>\n",
       "      <td>NaN</td>\n",
       "      <td>NaN</td>\n",
       "      <td>NaN</td>\n",
       "      <td>NaN</td>\n",
       "      <td>NaN</td>\n",
       "      <td>...</td>\n",
       "      <td>9.50</td>\n",
       "      <td>9.8400</td>\n",
       "      <td>8.78</td>\n",
       "      <td>9.11</td>\n",
       "      <td>381939.0</td>\n",
       "      <td>10.81</td>\n",
       "      <td>11.3799</td>\n",
       "      <td>10.5001</td>\n",
       "      <td>10.550</td>\n",
       "      <td>28709.0</td>\n",
       "    </tr>\n",
       "  </tbody>\n",
       "</table>\n",
       "<p>5 rows × 6400 columns</p>\n",
       "</div>"
      ],
      "text/plain": [
       "                          ANDA                        BCOW                 \\\n",
       "                          open high  low close volume open high low close   \n",
       "time                                                                        \n",
       "2021-07-12 04:00:00+00:00  NaN  NaN  NaN   NaN    NaN  NaN  NaN NaN   NaN   \n",
       "2021-07-13 04:00:00+00:00  NaN  NaN  NaN   NaN    NaN  NaN  NaN NaN   NaN   \n",
       "2021-07-14 04:00:00+00:00  NaN  NaN  NaN   NaN    NaN  NaN  NaN NaN   NaN   \n",
       "2021-07-15 04:00:00+00:00  NaN  NaN  NaN   NaN    NaN  NaN  NaN NaN   NaN   \n",
       "2021-07-16 04:00:00+00:00  NaN  NaN  NaN   NaN    NaN  NaN  NaN NaN   NaN   \n",
       "\n",
       "                                  ...   VRAR                                   \\\n",
       "                          volume  ...   open     high   low  close     volume   \n",
       "time                              ...                                           \n",
       "2021-07-12 04:00:00+00:00    NaN  ...   9.80  10.0000  9.05   9.23   529243.0   \n",
       "2021-07-13 04:00:00+00:00    NaN  ...   9.51  11.2300  9.30  10.60  2645973.0   \n",
       "2021-07-14 04:00:00+00:00    NaN  ...  10.26  10.5222  9.56   9.87   451085.0   \n",
       "2021-07-15 04:00:00+00:00    NaN  ...   9.92  10.2600  9.18   9.28   553333.0   \n",
       "2021-07-16 04:00:00+00:00    NaN  ...   9.50   9.8400  8.78   9.11   381939.0   \n",
       "\n",
       "                            WAVE                                      \n",
       "                            open     high      low   close    volume  \n",
       "time                                                                  \n",
       "2021-07-12 04:00:00+00:00  13.38  13.8200  11.8400  11.930  359714.0  \n",
       "2021-07-13 04:00:00+00:00  11.61  13.9800  11.0000  12.270  290813.0  \n",
       "2021-07-14 04:00:00+00:00  12.80  12.9800  11.6401  11.805  147332.0  \n",
       "2021-07-15 04:00:00+00:00  11.56  11.5800  10.5600  10.640  147422.0  \n",
       "2021-07-16 04:00:00+00:00  10.81  11.3799  10.5001  10.550   28709.0  \n",
       "\n",
       "[5 rows x 6400 columns]"
      ]
     },
     "metadata": {},
     "output_type": "display_data"
    }
   ],
   "source": [
    "years_joined_df = pd.concat([\n",
    "    jan_2019_df,\n",
    "    feb_2019_df,\n",
    "    mar_2019_df,\n",
    "    apr_2019_df,\n",
    "    may_2019_df,\n",
    "    jun_2019_df,\n",
    "    jul_2019_df,\n",
    "    aug_2019_df,\n",
    "    sep_2019_df,\n",
    "    oct_2019_df,\n",
    "    nov_2019_df,\n",
    "    dec_2019_df,\n",
    "    jan_2020_df,\n",
    "    feb_2020_df,\n",
    "    mar_2020_df,\n",
    "    apr_2020_df,\n",
    "    may_2020_df,\n",
    "    jun_2020_df,\n",
    "    jul_2020_df,\n",
    "    aug_2020_df,\n",
    "    sep_2020_df,\n",
    "    oct_2020_df,\n",
    "    nov_2020_df,\n",
    "    dec_2020_df,\n",
    "    jan_2021_df,\n",
    "    feb_2021_df,\n",
    "    mar_2021_df,\n",
    "    apr_2021_df,\n",
    "    may_2021_df,\n",
    "    jun_2021_df,\n",
    "    jul_2021_df,\n",
    "], axis = 1)\n",
    "\n",
    "display(years_joined_df.head())\n",
    "display(years_joined_df.tail())"
   ]
  },
  {
   "cell_type": "code",
   "execution_count": 135,
   "id": "cfaf8c77-dd30-415b-9039-e4119ae0718c",
   "metadata": {},
   "outputs": [],
   "source": [
    "years_joined_df.to_csv(\"recent_ipos.csv\")"
   ]
  },
  {
   "cell_type": "code",
   "execution_count": null,
   "id": "a8fa68ef-2ff2-4590-8de8-982d8b596f5a",
   "metadata": {},
   "outputs": [],
   "source": []
  }
 ],
 "metadata": {
  "kernelspec": {
   "display_name": "Python 3",
   "language": "python",
   "name": "python3"
  },
  "language_info": {
   "codemirror_mode": {
    "name": "ipython",
    "version": 3
   },
   "file_extension": ".py",
   "mimetype": "text/x-python",
   "name": "python",
   "nbconvert_exporter": "python",
   "pygments_lexer": "ipython3",
   "version": "3.7.10"
  }
 },
 "nbformat": 4,
 "nbformat_minor": 5
}
