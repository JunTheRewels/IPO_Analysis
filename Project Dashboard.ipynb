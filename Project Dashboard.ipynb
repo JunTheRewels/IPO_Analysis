{
 "cells": [
  {
   "cell_type": "code",
   "execution_count": 1,
   "metadata": {},
   "outputs": [],
   "source": [
    "# Setting imports\n",
    "import os\n",
    "import pandas as pd\n",
    "from dotenv import load_dotenv\n",
    "import alpaca_trade_api as tradeapi\n",
    "import csv\n",
    "from pathlib import Path\n",
    "from jupyter_dash import JupyterDash\n",
    "import dash_core_components as dcc\n",
    "import dash_html_components as html\n",
    "from dash.dependencies import Input, Output\n",
    "import pandas as pd\n",
    "import plotly.graph_objs as go\n",
    "import random\n",
    "import plotly.express as px\n",
    "\n"
   ]
  },
  {
   "cell_type": "code",
   "execution_count": 2,
   "metadata": {},
   "outputs": [],
   "source": [
    "path = \"./csvs/full_ipo_list.csv\"\n",
    "\n",
    "# external CSS stylesheets to style DashBoard\n",
    "external_stylesheets = [\n",
    "    'https://codepen.io/chriddyp/pen/bWLwgP.css',\n",
    "    {\n",
    "        'href': 'https://stackpath.bootstrapcdn.com/bootstrap/4.1.3/css/bootstrap.min.css',\n",
    "        'rel': 'stylesheet',\n",
    "        'integrity': 'sha384-MCw98/SFnGE8fJT3GXwEOngsV7Zt27NXFoaoApmYm81iuXoPkFOJwJ8ERdknLPMO',\n",
    "        'crossorigin': 'anonymous'\n",
    "    }\n",
    "]\n",
    "\n",
    "ipo_df = pd.read_csv(path, encoding = 'latin1')\n",
    "symbol = ipo_df['Symbol']\n",
    "ipo_df_year = ipo_df.groupby(['Year']).sum()\n",
    "ipo_df_i = ipo_df.groupby(['Sector']).sum()\n",
    "\n",
    "# Replace Small IPO Sectors with Other    \n",
    "ipo_df_ind = ipo_df\n",
    "ipo_df_ind.loc[ipo_df_ind['Volume'] < 200000, \"Sector\"] = \"Other Sector\"\n",
    "ipo_df_ind = ipo_df_ind[ipo_df_ind['Sector'].notna()]\n",
    "\n",
    "#Sratify Data Set by Different Metrics\n",
    "ipo_df_year_count = ipo_df.groupby(['Year']).count()\n",
    "ipo_df_i_count =  ipo_df.groupby(['Sector']).count()\n",
    "ipo_df_industry = ipo_df.groupby(['Sector', 'Year']).mean()"
   ]
  },
  {
   "cell_type": "markdown",
   "metadata": {},
   "source": [
    "# Create Dashboard"
   ]
  },
  {
   "cell_type": "code",
   "execution_count": 3,
   "metadata": {
    "scrolled": true
   },
   "outputs": [
    {
     "data": {
      "text/html": [
       "\n",
       "        <iframe\n",
       "            width=\"100%\"\n",
       "            height=\"650\"\n",
       "            src=\"http://127.0.0.1:8504/\"\n",
       "            frameborder=\"0\"\n",
       "            allowfullscreen\n",
       "        ></iframe>\n",
       "        "
      ],
      "text/plain": [
       "<IPython.lib.display.IFrame at 0x1ba11827088>"
      ]
     },
     "metadata": {},
     "output_type": "display_data"
    }
   ],
   "source": [
    "app = JupyterDash(__name__,\n",
    "                external_stylesheets=external_stylesheets)\n",
    "\n",
    "fig1 = px.bar(ipo_df_year, x = ipo_df_year.index, y = ipo_df_year['Volume'].values, labels = {'x': 'Year', 'y':'Total Volume ($)'})\n",
    "fig2 = px.bar(ipo_df_i, x = ipo_df_i.index, y = ipo_df_i['Volume'].values, labels = {'x': 'Sector', 'y':'Total Volume ($)'})\n",
    "fig3 = px.bar(ipo_df_year_count, x = ipo_df_year_count.index, y = ipo_df_year_count['Volume'].values, labels = {'x': 'Year', 'y':'Total Count of IPOs'})\n",
    "fig4 = px.bar(ipo_df_i_count, x = ipo_df_i_count.index, y = ipo_df_i_count['Volume'].values, labels = {'x': 'Industry', 'y':'Total Count of IPOs'})\n",
    "fig5 = px.pie(ipo_df_ind, values = 'Volume', names = \"Sector\")\n",
    "app.layout = html.Div([\n",
    "    html.H1(\"IPO's Data Over Time\"),\n",
    "    dcc.Graph(id='graph'),\n",
    "    html.Label([\n",
    "        \"IPO Sectors\",\n",
    "        dcc.Dropdown(\n",
    "            id='ticker-dropdown', clearable=False,\n",
    "            value=ipo_df_industry.index.get_level_values(0), options=[ {'label': c, 'value': c} for c in ipo_df_industry.index.get_level_values(0)])\n",
    "    ]),\n",
    "    \n",
    "    html.H2(\"IPO's Total Volume Over Time\"),\n",
    "    dcc.Graph(id = 'graph2', figure = fig1),\n",
    "    \n",
    "    html.H3(\"IPO's Total Volume By Sector\"),\n",
    "    dcc.Graph(id = 'graph3', figure = fig2),\n",
    "    \n",
    "    html.H4(\"IPO's Total Count By Year\"),\n",
    "    dcc.Graph(id = 'graph4', figure = fig3),\n",
    "    \n",
    "    html.H5(\"IPO's Total Count By Sector\"),\n",
    "    dcc.Graph(id = 'graph5', figure = fig4),\n",
    "    \n",
    "    html.H5(\"IPO's Market Share by Total Volume Over past 25 Years\"),\n",
    "    dcc.Graph(id = 'graph6', figure = fig5),\n",
    "\n",
    "])\n",
    "# Define callback to update graph\n",
    "@app.callback(Output('graph', 'figure'),[Input(\"ticker-dropdown\", \"value\")])\n",
    "def update_figure(value):\n",
    "    return px.bar(ipo_df_industry, x= value, y = ipo_df_industry['Volume'].values, title = \"IPO Mean Volume over Years\", labels = {'x' : 'Year', 'y' : 'Mean Volume ($)'})\n",
    "# Run app an d display result inline in the notebook\n",
    "app.run_server(mode='inline', debug = True, port = 8504)"
   ]
  },
  {
   "cell_type": "code",
   "execution_count": null,
   "metadata": {},
   "outputs": [],
   "source": []
  },
  {
   "cell_type": "code",
   "execution_count": null,
   "metadata": {},
   "outputs": [],
   "source": []
  },
  {
   "cell_type": "code",
   "execution_count": null,
   "metadata": {},
   "outputs": [],
   "source": []
  }
 ],
 "metadata": {
  "kernelspec": {
   "display_name": "Python 3",
   "language": "python",
   "name": "python3"
  },
  "language_info": {
   "codemirror_mode": {
    "name": "ipython",
    "version": 3
   },
   "file_extension": ".py",
   "mimetype": "text/x-python",
   "name": "python",
   "nbconvert_exporter": "python",
   "pygments_lexer": "ipython3",
   "version": "3.7.10"
  }
 },
 "nbformat": 4,
 "nbformat_minor": 4
}
